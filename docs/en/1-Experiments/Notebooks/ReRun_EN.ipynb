{
 "cells": [
  {
   "cell_type": "markdown",
   "id": "1bd46748-42b9-46ea-9fea-fee20634a793",
   "metadata": {},
   "source": [
    "# Rerun: Visualize everything fast!\n",
    "\n",
    "Rerun is an SDK for visualizing multimodal data that changes over time. It’s used by engineers and researchers in fields like computer vision and robotics to verify, debug, and demo.\n",
    "\n",
    "Rerun uses an open-core model. Everything in this repository will stay open source and free (both as in beer and as in freedom). In the future, Rerun will offer a commercial product that builds on top of the core free project.\n",
    "\n",
    "The Rerun open source project targets the needs of individual developers. The commercial product targets the needs specific to teams that build and run computer vision and robotics products.\n",
    "\n",
    "Rerun is an SDK and engine for visualizing and interacting with multimodal data streams.\n",
    "\n",
    "Rerun is\n",
    "\n",
    "- Simple to integrate and get started with\n",
    "- Usable from Python, Rust, and C++\n",
    "- Powerful, flexible, and extensible\n",
    "- Built in Rust to be cross platform and fast\n",
    "- Open source, dual licensed under MIT and Apache 2\n",
    "\n",
    "Rerun is used by engineers and researchers in fields like computer vision and robotics to verify, debug, and demo.\n",
    "\n",
    "## Use ReRun to\n",
    "\n",
    "- Stream multimodal data from your code by logging it with the Rerun SDK\n",
    "- Visualize and interact with live or recorded streams, whether local or remote\n",
    "\n",
    "![](rerun.png)\n",
    "\n",
    "## Installation:\n",
    "\n",
    "To install Mito Sheet, execute the following cell in your JupyterLab environment:"
   ]
  },
  {
   "cell_type": "code",
   "execution_count": 1,
   "id": "d9f41c51-e09f-4a37-b5e6-3ff4766001ea",
   "metadata": {
    "tags": []
   },
   "outputs": [],
   "source": [
    "%%capture\n",
    "! pip install -U rerun-sdk"
   ]
  },
  {
   "cell_type": "markdown",
   "id": "b421be69-2741-4d5c-a3fa-f60f8d9187aa",
   "metadata": {
    "tags": []
   },
   "source": [
    "## Getting Started:\n",
    "\n",
    "The simplest example is to open ReRun using the `spawn()` method:\n",
    "\n",
    "![Empty Viewer](./img/rerun-empty.png)"
   ]
  },
  {
   "cell_type": "code",
   "execution_count": 1,
   "id": "a846e8c0",
   "metadata": {},
   "outputs": [
    {
     "name": "stderr",
     "output_type": "stream",
     "text": [
      "\n",
      "thread 'ThreadId(1)' panicked at 'Failed to initialize any backend! Wayland status: XdgRuntimeDirNotSet X11 status: XOpenDisplayFailed'\n",
      "winit-0.28.7/src/platform_impl/linux/mod.rs:757\n",
      "stack backtrace:\n",
      "   6: core::panicking::panic_fmt\n",
      "             at core/src/panicking.rs:67:14\n",
      "   7: eframe::native::run::create_event_loop\n",
      "   8: eframe::native::run::with_event_loop\n",
      "   9: eframe::run_native\n",
      "\n",
      "Troubleshooting Rerun: https://www.rerun.io/docs/getting-started/troubleshooting\n",
      "Report bugs: https://github.com/rerun-io/rerun/issues\n"
     ]
    }
   ],
   "source": [
    "import rerun as rr\n",
    "\n",
    "rr.init()\n",
    "rr.spawn()"
   ]
  },
  {
   "cell_type": "markdown",
   "id": "b84e8b9d",
   "metadata": {},
   "source": [
    "But we can also view something simple in 3 space by generating some points and plotting them."
   ]
  },
  {
   "cell_type": "markdown",
   "id": "56bb4e64",
   "metadata": {},
   "source": [
    "![Cube](./img/rerun-cube.png)"
   ]
  },
  {
   "cell_type": "code",
   "execution_count": null,
   "id": "a7127bbc",
   "metadata": {},
   "outputs": [],
   "source": [
    "import rerun as rr\n",
    "import numpy as np\n",
    "\n",
    "rr.init(\"rerun_example_my_data\", spawn=True)\n",
    "\n",
    "SIZE = 10\n",
    "\n",
    "pos_grid = np.meshgrid(*[np.linspace(-10, 10, SIZE)]*3)\n",
    "positions = np.vstack([d.reshape(-1) for d in pos_grid]).T\n",
    "\n",
    "col_grid = np.meshgrid(*[np.linspace(0, 255, SIZE)]*3)\n",
    "colors = np.vstack([c.reshape(-1) for c in col_grid]).astype(np.uint8).T\n",
    "\n",
    "rr.log(\n",
    "    \"my_points\",\n",
    "    rr.Points3D(positions, colors=colors, radii=0.5)\n",
    ")"
   ]
  },
  {
   "cell_type": "markdown",
   "id": "759d2169",
   "metadata": {},
   "source": [
    "But that's not that impressive. ReRun shines when we view multi-model time-series data:"
   ]
  },
  {
   "cell_type": "code",
   "execution_count": null,
   "id": "59cfd2b2",
   "metadata": {},
   "outputs": [],
   "source": []
  },
  {
   "cell_type": "code",
   "execution_count": 2,
   "id": "e9bd9a87",
   "metadata": {},
   "outputs": [
    {
     "name": "stderr",
     "output_type": "stream",
     "text": [
      "\n",
      "thread 'ThreadId(1)' panicked at 'Failed to initialize any backend! Wayland status: XdgRuntimeDirNotSet X11 status: XOpenDisplayFailed'\n",
      "winit-0.28.7/src/platform_impl/linux/mod.rs:757\n",
      "stack backtrace:\n",
      "   6: core::panicking::panic_fmt\n",
      "             at core/src/panicking.rs:67:14\n",
      "   7: eframe::native::run::create_event_loop\n",
      "   8: eframe::native::run::with_event_loop\n",
      "   9: eframe::run_native\n",
      "\n",
      "Troubleshooting Rerun: https://www.rerun.io/docs/getting-started/troubleshooting\n",
      "Report bugs: https://github.com/rerun-io/rerun/issues\n",
      "[2023-12-11T20:56:26Z WARN  re_sdk_comms::buffered_client] Failed to send message after 3 attempts: Failed to send to Rerun server at 127.0.0.1:9876: Broken pipe (os error 32)\n"
     ]
    },
    {
     "name": "stderr",
     "output_type": "stream",
     "text": [
      "[2023-12-11T20:56:29Z WARN  re_sdk_comms::buffered_client] Dropping messages because tcp client has timed out.\n",
      "[2023-12-11T20:56:29Z WARN  re_sdk_comms::buffered_client] Dropping messages because tcp client has timed out.\n"
     ]
    }
   ],
   "source": [
    "from __future__ import annotations\n",
    "\n",
    "import argparse\n",
    "from math import tau\n",
    "\n",
    "import numpy as np\n",
    "import rerun as rr  # pip install rerun-sdk\n",
    "from rerun.utilities import bounce_lerp, build_color_spiral\n",
    "\n",
    "DESCRIPTION = \"\"\"\n",
    "# DNA\n",
    "This is a minimal example that logs synthetic 3D data in the shape of a double helix. The underlying data is generated\n",
    "using numpy and visualized using Rerun.\n",
    "\n",
    "## How it was made\n",
    "The full source code for this example is available\n",
    "[on GitHub](https://github.com/rerun-io/rerun/blob/latest/examples/python/dna/main.py).\n",
    "\n",
    "### Colored 3D points\n",
    "The colored 3D points were added to the scene by logging the\n",
    "[rr.Points3D archetype](https://www.rerun.io/docs/reference/types/archetypes/points3d) to the\n",
    "[helix/structure/left](recording://helix/structure/left) and [helix/structure/right](recording://helix/structure/right)\n",
    "entities.\n",
    "\n",
    "### 3D line strips\n",
    "The 3D line strips connecting the 3D point pairs are logged as an\n",
    "[rr.LineStrips3D archetype](https://www.rerun.io/docs/reference/types/archetypes/line_strips3d) to the\n",
    "[helix/structure/scaffolding entity](recording://helix/structure/scaffolding).\n",
    "\n",
    "### Rotation\n",
    "The whole structure is rotated over time by logging a\n",
    "[rr.Transform3D archetype](https://www.rerun.io/docs/reference/types/archetypes/transform3d) to the\n",
    "[helix/structure entity](recording://helix/structure.Transform3D) that changes over time. This transform determines the rotation of\n",
    "the [structure entity](recording://helix/structure) relative to the [helix](recording://helix) entity. Since all other\n",
    "entities are children of [helix/structure](recording://helix/structure) they will also rotate based on this transform.\n",
    "\n",
    "You can visualize this rotation by selecting the two entities on the left-hand side and activating `Show transform` in\n",
    "the Blueprint settings on the right-hand side. You will see one static frame (i.e., the frame of\n",
    "[helix](recording://helix)) and the rotating frame (i.e., the frame of [structure](recording://helix/structure)).\n",
    "\"\"\".strip()\n",
    "\n",
    "rr.spawn()\n",
    "\n",
    "rr.log(\"description\", rr.TextDocument(DESCRIPTION, media_type=rr.MediaType.MARKDOWN), timeless=True)\n",
    "\n",
    "rr.set_time_seconds(\"stable_time\", 0)\n",
    "\n",
    "NUM_POINTS = 100\n",
    "\n",
    "# points and colors are both np.array((NUM_POINTS, 3))\n",
    "points1, colors1 = build_color_spiral(NUM_POINTS)\n",
    "points2, colors2 = build_color_spiral(NUM_POINTS, angular_offset=tau * 0.5)\n",
    "rr.log(\"helix/structure/left\", rr.Points3D(points1, colors=colors1, radii=0.08))\n",
    "rr.log(\"helix/structure/right\", rr.Points3D(points2, colors=colors2, radii=0.08))\n",
    "\n",
    "rr.log(\"helix/structure/scaffolding\", rr.LineStrips3D(np.stack((points1, points2), axis=1), colors=[128, 128, 128]))\n",
    "\n",
    "time_offsets = np.random.rand(NUM_POINTS)\n",
    "for i in range(400):\n",
    "    time = i * 0.01\n",
    "    rr.set_time_seconds(\"stable_time\", time)\n",
    "\n",
    "    times = np.repeat(time, NUM_POINTS) + time_offsets\n",
    "    beads = [bounce_lerp(points1[n], points2[n], times[n]) for n in range(NUM_POINTS)]\n",
    "    colors = [[int(bounce_lerp(80, 230, times[n] * 2))] for n in range(NUM_POINTS)]\n",
    "    rr.log(\n",
    "        \"helix/structure/scaffolding/beads\", rr.Points3D(beads, radii=0.06, colors=np.repeat(colors, 3, axis=-1))\n",
    "    )\n",
    "\n",
    "    rr.log(\n",
    "        \"helix/structure\",\n",
    "        rr.Transform3D(rotation=rr.RotationAxisAngle(axis=[0, 0, 1], radians=time / 4.0 * tau)),\n",
    "    )"
   ]
  },
  {
   "cell_type": "markdown",
   "id": "0cd849b8",
   "metadata": {},
   "source": [
    "![DNA](./img/rerun-dna.png)"
   ]
  },
  {
   "cell_type": "markdown",
   "id": "b51051ab",
   "metadata": {},
   "source": [
    "![DNA](./img/rerun-dna.png)"
   ]
  },
  {
   "cell_type": "code",
   "execution_count": 4,
   "id": "de21e1f2",
   "metadata": {},
   "outputs": [
    {
     "name": "stderr",
     "output_type": "stream",
     "text": [
      "\n",
      "thread 'ThreadId(1)' panicked at 'Failed to initialize any backend! Wayland status: XdgRuntimeDirNotSet X11 status: XOpenDisplayFailed'\n",
      "winit-0.28.7/src/platform_impl/linux/mod.rs:757\n",
      "stack backtrace:\n",
      "   6: core::panicking::panic_fmt\n",
      "             at core/src/panicking.rs:67:14\n",
      "   7: eframe::native::run::create_event_loop\n",
      "   8: eframe::native::run::with_event_loop\n",
      "   9: eframe::run_native\n",
      "\n",
      "Troubleshooting Rerun: https://www.rerun.io/docs/getting-started/troubleshooting\n",
      "Report bugs: https://github.com/rerun-io/rerun/issues\n",
      "[2023-12-11T21:09:39Z WARN  re_sdk_comms::buffered_client] Failed to send message after 3 attempts: Failed to send to Rerun server at 127.0.0.1:9876: Broken pipe (os error 32)\n"
     ]
    }
   ],
   "source": [
    "#!/usr/bin/env python3\n",
    "\"\"\"\n",
    "Demonstrates how to log simple plots with the Rerun SDK.\n",
    "\n",
    "\"\"\"\n",
    "from __future__ import annotations\n",
    "\n",
    "import argparse\n",
    "import random\n",
    "from math import cos, sin, tau\n",
    "\n",
    "import numpy as np\n",
    "import rerun as rr  # pip install rerun-sdk\n",
    "\n",
    "DESCRIPTION = \"\"\"\n",
    "# Plots\n",
    "This example shows various plot types that you can create using Rerun. Common usecases for such plots would be logging\n",
    "losses or metrics over time, histograms, or general function plots.\n",
    "\n",
    "## How it was made\n",
    "The full source code for this example is available [on GitHub](https://github.com/rerun-io/rerun/blob/latest/examples/python/plots/main.py).\n",
    "\n",
    "### Bar charts\n",
    "The [bar chart](recording://bar_chart) is created by logging the [rr.BarChart archetype](https://www.rerun.io/docs/reference/types/archetypes/bar_chart).\n",
    "\n",
    "### Time series\n",
    "All other plots are created using the\n",
    "[rr.TimeSeriesScalar archetype](https://www.rerun.io/docs/reference/types/archetypes/bar_chart)\n",
    "with different settings. Each plot is created by logging scalars at different time steps (i.e., the x-axis).\n",
    "\n",
    "For the [parabola](recording://curves/parabola) the radius and color is changed over time.\n",
    "\n",
    "[sin](recording://trig/sin) and [cos](recording://trig/cos) are logged with the same parent entity (i.e.,\n",
    "`trig/{cos,sin}`) which will put them in the same view by default.\n",
    "\n",
    "For the [classification samples](recording://classification/samples) `rr.TimeSeriesScalar(..., scatter=True)` is used to\n",
    "create separate points that do not connect over time. Note, that in the other plots the logged scalars are connected\n",
    "over time by lines.\n",
    "\"\"\".strip()\n",
    "\n",
    "rr.spawn()\n",
    "\n",
    "def clamp(n, smallest, largest):  # type: ignore[no-untyped-def]\n",
    "    return max(smallest, min(n, largest))\n",
    "\n",
    "\n",
    "def log_bar_chart() -> None:\n",
    "    rr.set_time_sequence(\"frame_nr\", 0)\n",
    "    # Log a gauss bell as a bar chart\n",
    "    mean = 0\n",
    "    std = 1\n",
    "    variance = np.square(std)\n",
    "    x = np.arange(-5, 5, 0.1)\n",
    "    y = np.exp(-np.square(x - mean) / 2 * variance) / (np.sqrt(2 * np.pi * variance))\n",
    "    rr.log(\"bar_chart\", rr.BarChart(y))\n",
    "\n",
    "\n",
    "def log_parabola() -> None:\n",
    "    # Log a parabola as a time series\n",
    "    for t in range(0, 1000, 10):\n",
    "        rr.set_time_sequence(\"frame_nr\", t)\n",
    "\n",
    "        f_of_t = (t * 0.01 - 5) ** 3 + 1\n",
    "        radius = clamp(abs(f_of_t) * 0.1, 0.5, 10.0)\n",
    "        color = [255, 255, 0]\n",
    "        if f_of_t < -10.0:\n",
    "            color = [255, 0, 0]\n",
    "        elif f_of_t > 10.0:\n",
    "            color = [0, 255, 0]\n",
    "\n",
    "        rr.log(\n",
    "            \"curves/parabola\",\n",
    "            rr.TimeSeriesScalar(\n",
    "                f_of_t,\n",
    "                label=\"f(t) = (0.01t - 3)³ + 1\",\n",
    "                radius=radius,\n",
    "                color=color,\n",
    "            ),\n",
    "        )\n",
    "\n",
    "\n",
    "def log_trig() -> None:\n",
    "    # Log a time series\n",
    "    for t in range(0, int(tau * 2 * 100.0)):\n",
    "        rr.set_time_sequence(\"frame_nr\", t)\n",
    "\n",
    "        sin_of_t = sin(float(t) / 100.0)\n",
    "        rr.log(\"trig/sin\", rr.TimeSeriesScalar(sin_of_t, label=\"sin(0.01t)\", color=[255, 0, 0]))\n",
    "\n",
    "        cos_of_t = cos(float(t) / 100.0)\n",
    "        rr.log(\"trig/cos\", rr.TimeSeriesScalar(cos_of_t, label=\"cos(0.01t)\", color=[0, 255, 0]))\n",
    "\n",
    "\n",
    "def log_classification() -> None:\n",
    "    # Log a time series\n",
    "    for t in range(0, 1000, 2):\n",
    "        rr.set_time_sequence(\"frame_nr\", t)\n",
    "\n",
    "        f_of_t = (2 * 0.01 * t) + 2\n",
    "        color = [255, 255, 0]\n",
    "        rr.log(\"classification/line\", rr.TimeSeriesScalar(f_of_t, color=color, radius=3.0))\n",
    "\n",
    "        g_of_t = f_of_t + random.uniform(-5.0, 5.0)\n",
    "        if g_of_t < f_of_t - 1.5:\n",
    "            color = [255, 0, 0]\n",
    "        elif g_of_t > f_of_t + 1.5:\n",
    "            color = [0, 255, 0]\n",
    "        else:\n",
    "            color = [255, 255, 255]\n",
    "        radius = abs(g_of_t - f_of_t)\n",
    "        rr.log(\"classification/samples\", rr.TimeSeriesScalar(g_of_t, color=color, scattered=True, radius=radius))\n",
    "\n",
    "\n",
    "\n",
    "rr.log(\"description\", rr.TextDocument(DESCRIPTION, media_type=rr.MediaType.MARKDOWN), timeless=True)\n",
    "log_bar_chart()\n",
    "log_parabola()\n",
    "log_trig()\n",
    "log_classification()"
   ]
  },
  {
   "cell_type": "markdown",
   "id": "07f8187c",
   "metadata": {},
   "source": [
    "![DNA](./img/rerun-multi-1.png)"
   ]
  },
  {
   "cell_type": "markdown",
   "id": "290dec98",
   "metadata": {},
   "source": [
    "The next example is more serious and will require us to run the code from a script."
   ]
  },
  {
   "cell_type": "code",
   "execution_count": 9,
   "id": "11fccc2c",
   "metadata": {},
   "outputs": [
    {
     "name": "stdout",
     "output_type": "stream",
     "text": [
      "Collecting segment_anything\n",
      "  Downloading segment_anything-1.0-py3-none-any.whl (36 kB)\n",
      "Collecting opencv_python\n",
      "  Downloading opencv_python-4.8.1.78-cp37-abi3-manylinux_2_17_x86_64.manylinux2014_x86_64.whl.metadata (19 kB)\n",
      "Requirement already satisfied: torch in /home/codespace/.local/lib/python3.10/site-packages (2.1.1)\n",
      "Collecting torchvision\n",
      "  Downloading torchvision-0.16.1-cp310-cp310-manylinux1_x86_64.whl.metadata (6.6 kB)\n",
      "Collecting tqdm\n",
      "  Downloading tqdm-4.66.1-py3-none-any.whl.metadata (57 kB)\n",
      "\u001b[2K     \u001b[90m━━━━━━━━━━━━━━━━━━━━━━━━━━━━━━━━━━━━━━━━\u001b[0m \u001b[32m57.6/57.6 kB\u001b[0m \u001b[31m1.9 MB/s\u001b[0m eta \u001b[36m0:00:00\u001b[0m\n",
      "\u001b[?25hRequirement already satisfied: numpy>=1.21.2 in /home/codespace/.local/lib/python3.10/site-packages (from opencv_python) (1.26.2)\n",
      "Requirement already satisfied: filelock in /home/codespace/.local/lib/python3.10/site-packages (from torch) (3.13.1)\n",
      "Requirement already satisfied: typing-extensions in /home/codespace/.local/lib/python3.10/site-packages (from torch) (4.8.0)\n",
      "Requirement already satisfied: sympy in /home/codespace/.local/lib/python3.10/site-packages (from torch) (1.12)\n",
      "Requirement already satisfied: networkx in /home/codespace/.local/lib/python3.10/site-packages (from torch) (3.2.1)\n",
      "Requirement already satisfied: jinja2 in /home/codespace/.local/lib/python3.10/site-packages (from torch) (3.1.2)\n",
      "Requirement already satisfied: fsspec in /home/codespace/.local/lib/python3.10/site-packages (from torch) (2023.10.0)\n",
      "Requirement already satisfied: nvidia-cuda-nvrtc-cu12==12.1.105 in /home/codespace/.local/lib/python3.10/site-packages (from torch) (12.1.105)\n",
      "Requirement already satisfied: nvidia-cuda-runtime-cu12==12.1.105 in /home/codespace/.local/lib/python3.10/site-packages (from torch) (12.1.105)\n",
      "Requirement already satisfied: nvidia-cuda-cupti-cu12==12.1.105 in /home/codespace/.local/lib/python3.10/site-packages (from torch) (12.1.105)\n",
      "Requirement already satisfied: nvidia-cudnn-cu12==8.9.2.26 in /home/codespace/.local/lib/python3.10/site-packages (from torch) (8.9.2.26)\n",
      "Requirement already satisfied: nvidia-cublas-cu12==12.1.3.1 in /home/codespace/.local/lib/python3.10/site-packages (from torch) (12.1.3.1)\n",
      "Requirement already satisfied: nvidia-cufft-cu12==11.0.2.54 in /home/codespace/.local/lib/python3.10/site-packages (from torch) (11.0.2.54)\n",
      "Requirement already satisfied: nvidia-curand-cu12==10.3.2.106 in /home/codespace/.local/lib/python3.10/site-packages (from torch) (10.3.2.106)\n",
      "Requirement already satisfied: nvidia-cusolver-cu12==11.4.5.107 in /home/codespace/.local/lib/python3.10/site-packages (from torch) (11.4.5.107)\n",
      "Requirement already satisfied: nvidia-cusparse-cu12==12.1.0.106 in /home/codespace/.local/lib/python3.10/site-packages (from torch) (12.1.0.106)\n",
      "Requirement already satisfied: nvidia-nccl-cu12==2.18.1 in /home/codespace/.local/lib/python3.10/site-packages (from torch) (2.18.1)\n",
      "Requirement already satisfied: nvidia-nvtx-cu12==12.1.105 in /home/codespace/.local/lib/python3.10/site-packages (from torch) (12.1.105)\n",
      "Requirement already satisfied: triton==2.1.0 in /home/codespace/.local/lib/python3.10/site-packages (from torch) (2.1.0)\n",
      "Requirement already satisfied: nvidia-nvjitlink-cu12 in /home/codespace/.local/lib/python3.10/site-packages (from nvidia-cusolver-cu12==11.4.5.107->torch) (12.3.101)\n",
      "Requirement already satisfied: requests in /home/codespace/.local/lib/python3.10/site-packages (from torchvision) (2.31.0)\n",
      "Requirement already satisfied: pillow!=8.3.*,>=5.3.0 in /home/codespace/.local/lib/python3.10/site-packages (from torchvision) (10.1.0)\n",
      "Requirement already satisfied: MarkupSafe>=2.0 in /home/codespace/.local/lib/python3.10/site-packages (from jinja2->torch) (2.1.3)\n",
      "Requirement already satisfied: charset-normalizer<4,>=2 in /home/codespace/.local/lib/python3.10/site-packages (from requests->torchvision) (3.3.2)\n",
      "Requirement already satisfied: idna<4,>=2.5 in /home/codespace/.local/lib/python3.10/site-packages (from requests->torchvision) (3.4)\n",
      "Requirement already satisfied: urllib3<3,>=1.21.1 in /usr/local/python/3.10.13/lib/python3.10/site-packages (from requests->torchvision) (2.0.7)\n",
      "Requirement already satisfied: certifi>=2017.4.17 in /home/codespace/.local/lib/python3.10/site-packages (from requests->torchvision) (2023.7.22)\n",
      "Requirement already satisfied: mpmath>=0.19 in /home/codespace/.local/lib/python3.10/site-packages (from sympy->torch) (1.3.0)\n",
      "Downloading opencv_python-4.8.1.78-cp37-abi3-manylinux_2_17_x86_64.manylinux2014_x86_64.whl (61.7 MB)\n",
      "\u001b[2K   \u001b[90m━━━━━━━━━━━━━━━━━━━━━━━━━━━━━━━━━━━━━━━━\u001b[0m \u001b[32m61.7/61.7 MB\u001b[0m \u001b[31m21.1 MB/s\u001b[0m eta \u001b[36m0:00:00\u001b[0m:00:01\u001b[0m00:01\u001b[0m\n",
      "\u001b[?25hDownloading torchvision-0.16.1-cp310-cp310-manylinux1_x86_64.whl (6.8 MB)\n",
      "\u001b[2K   \u001b[90m━━━━━━━━━━━━━━━━━━━━━━━━━━━━━━━━━━━━━━━━\u001b[0m \u001b[32m6.8/6.8 MB\u001b[0m \u001b[31m56.7 MB/s\u001b[0m eta \u001b[36m0:00:00\u001b[0m:00:01\u001b[0m00:01\u001b[0m\n",
      "\u001b[?25hDownloading tqdm-4.66.1-py3-none-any.whl (78 kB)\n",
      "\u001b[2K   \u001b[90m━━━━━━━━━━━━━━━━━━━━━━━━━━━━━━━━━━━━━━━━\u001b[0m \u001b[32m78.3/78.3 kB\u001b[0m \u001b[31m2.6 MB/s\u001b[0m eta \u001b[36m0:00:00\u001b[0m\n",
      "\u001b[?25hInstalling collected packages: segment_anything, tqdm, opencv_python, torchvision\n",
      "Successfully installed opencv_python-4.8.1.78 segment_anything-1.0 torchvision-0.16.1 tqdm-4.66.1\n"
     ]
    }
   ],
   "source": [
    "! pip install segment_anything opencv_python torch torchvision tqdm"
   ]
  },
  {
   "cell_type": "code",
   "execution_count": 10,
   "id": "0c62304c",
   "metadata": {},
   "outputs": [
    {
     "name": "stdout",
     "output_type": "stream",
     "text": [
      "Traceback (most recent call last):\n",
      "  File \"/workspaces/aaw/docs/en/1-Experiments/Notebooks/scripts/rerun-segment_anything_model.py\", line 28, in <module>\n",
      "    import cv2\n",
      "  File \"/usr/local/python/3.10.13/lib/python3.10/site-packages/cv2/__init__.py\", line 181, in <module>\n",
      "    bootstrap()\n",
      "  File \"/usr/local/python/3.10.13/lib/python3.10/site-packages/cv2/__init__.py\", line 153, in bootstrap\n",
      "    native_module = importlib.import_module(\"cv2\")\n",
      "  File \"/usr/local/python/3.10.13/lib/python3.10/importlib/__init__.py\", line 126, in import_module\n",
      "    return _bootstrap._gcd_import(name[level:], package, level)\n",
      "ImportError: libGL.so.1: cannot open shared object file: No such file or directory\n"
     ]
    }
   ],
   "source": [
    "! python scripts/rerun-segment_anything_model.py"
   ]
  },
  {
   "cell_type": "markdown",
   "id": "d9bd7e11",
   "metadata": {},
   "source": [
    "See the official ReRun [Python Quickstart](https://www.rerun.io/docs/getting-started/python) for more information about ReRun and what it can do for you."
   ]
  }
 ],
 "metadata": {
  "kernelspec": {
   "display_name": "Python 3 (ipykernel)",
   "language": "python",
   "name": "python3"
  },
  "language_info": {
   "codemirror_mode": {
    "name": "ipython",
    "version": 3
   },
   "file_extension": ".py",
   "mimetype": "text/x-python",
   "name": "python",
   "nbconvert_exporter": "python",
   "pygments_lexer": "ipython3",
   "version": "3.10.13"
  }
 },
 "nbformat": 4,
 "nbformat_minor": 5
}
