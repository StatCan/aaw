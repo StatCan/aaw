{
 "cells": [
  {
   "cell_type": "markdown",
   "id": "1bd46748-42b9-46ea-9fea-fee20634a793",
   "metadata": {},
   "source": [
    "# Rerun: Visualize everything fast!\n",
    "\n",
    "Rerun is an SDK for visualizing multimodal data that changes over time. It’s used by engineers and researchers in fields like computer vision and robotics to verify, debug, and demo.\n",
    "\n",
    "Rerun uses an open-core model. Everything in this repository will stay open source and free (both as in beer and as in freedom). In the future, Rerun will offer a commercial product that builds on top of the core free project.\n",
    "\n",
    "The Rerun open source project targets the needs of individual developers. The commercial product targets the needs specific to teams that build and run computer vision and robotics products.\n",
    "\n",
    "Rerun is an SDK and engine for visualizing and interacting with multimodal data streams.\n",
    "\n",
    "Rerun is\n",
    "\n",
    "- Simple to integrate and get started with\n",
    "- Usable from Python, Rust, and C++\n",
    "- Powerful, flexible, and extensible\n",
    "- Built in Rust to be cross platform and fast\n",
    "- Open source, dual licensed under MIT and Apache 2\n",
    "\n",
    "Rerun is used by engineers and researchers in fields like computer vision and robotics to verify, debug, and demo.\n",
    "\n",
    "## Use ReRun to\n",
    "\n",
    "- Stream multimodal data from your code by logging it with the Rerun SDK\n",
    "- Visualize and interact with live or recorded streams, whether local or remote\n",
    "- Interactively build layouts and customize visualizations\n",
    "- Extend Rerun when you need to\n",
    "\n",
    "![](mito-fullscreen.png)\n",
    "\n",
    "![](mito.png)\n",
    "\n",
    "## Installation:\n",
    "\n",
    "To install Mito Sheet, execute the following cell in your JupyterLab environment:"
   ]
  },
  {
   "cell_type": "code",
   "execution_count": 1,
   "id": "d9f41c51-e09f-4a37-b5e6-3ff4766001ea",
   "metadata": {
    "tags": []
   },
   "outputs": [],
   "source": [
    "%%capture\n",
    "! pip install -U rerun-sdk"
   ]
  },
  {
   "cell_type": "code",
   "execution_count": 11,
   "id": "044bc84c",
   "metadata": {},
   "outputs": [
    {
     "name": "stdout",
     "output_type": "stream",
     "text": [
      "\n",
      "thread 'ThreadId(1)' panicked at 'Failed to initialize any backend! Wayland status: XdgRuntimeDirNotSet X11 status: XOpenDisplayFailed'\n",
      "winit-0.28.7/src/platform_impl/linux/mod.rs:757\n",
      "stack backtrace:\n",
      "   6: core::panicking::panic_fmt\n",
      "             at core/src/panicking.rs:67:14\n",
      "   7: eframe::native::run::create_event_loop\n",
      "   8: eframe::native::run::with_event_loop\n",
      "   9: eframe::run_native\n",
      "\n",
      "Troubleshooting Rerun: https://www.rerun.io/docs/getting-started/troubleshooting\n",
      "Report bugs: https://github.com/rerun-io/rerun/issues\n",
      "\n",
      "    Welcome to Rerun!\n",
      "\n",
      "    This open source library collects anonymous usage data to\n",
      "    help the Rerun team improve the library.\n",
      "\n",
      "    Summary:\n",
      "    - We only collect high level events about the features used within the Rerun Viewer.\n",
      "    - The actual data you log to Rerun, such as point clouds, images, or text logs,\n",
      "      will never be collected.\n",
      "    - We don't log IP addresses.\n",
      "    - We don't log your user name, file paths, or any personal identifiable data.\n",
      "    - Usage data we do collect will be sent to and stored on servers within the EU.\n",
      "\n",
      "    For more details and instructions on how to opt out, run the command:\n",
      "\n",
      "      rerun analytics details\n",
      "\n",
      "    As this is this your first session, _no_ usage data has been sent yet,\n",
      "    giving you an opportunity to opt-out first if you wish.\n",
      "\n",
      "    Happy Rerunning!\n",
      "\n"
     ]
    }
   ],
   "source": [
    "! rerun"
   ]
  },
  {
   "cell_type": "markdown",
   "id": "b421be69-2741-4d5c-a3fa-f60f8d9187aa",
   "metadata": {
    "tags": []
   },
   "source": [
    "## Getting Started:\n",
    "\n",
    "Begin your ReRun journey by running the following code snippet:"
   ]
  },
  {
   "cell_type": "code",
   "execution_count": 12,
   "id": "a2fa0eae-fceb-49a9-9c0f-4daf35d200f7",
   "metadata": {
    "tags": []
   },
   "outputs": [
    {
     "name": "stderr",
     "output_type": "stream",
     "text": [
      "\n",
      "thread 'ThreadId(1)' panicked at 'Failed to initialize any backend! Wayland status: XdgRuntimeDirNotSet X11 status: XOpenDisplayFailed'\n",
      "winit-0.28.7/src/platform_impl/linux/mod.rs:757\n",
      "stack backtrace:\n",
      "   6: core::panicking::panic_fmt\n",
      "             at core/src/panicking.rs:67:14\n",
      "   7: eframe::native::run::create_event_loop\n",
      "   8: eframe::native::run::with_event_loop\n",
      "   9: eframe::run_native\n",
      "\n",
      "Troubleshooting Rerun: https://www.rerun.io/docs/getting-started/troubleshooting\n",
      "Report bugs: https://github.com/rerun-io/rerun/issues\n"
     ]
    }
   ],
   "source": [
    "import rerun as rr  # NOTE: `rerun`, not `rerun-sdk`!\n",
    "import numpy as np\n",
    "\n",
    "rr.init(\"rerun_example_my_data\", spawn=True)\n",
    "\n",
    "positions = np.zeros((10, 3))\n",
    "positions[:,0] = np.linspace(-10,10,10)\n",
    "\n",
    "colors = np.zeros((10,3), dtype=np.uint8)\n",
    "colors[:,0] = np.linspace(0,255,10)\n",
    "\n",
    "rr.log(\n",
    "    \"my_points\",\n",
    "    rr.Points3D(positions, colors=colors, radii=0.5)\n",
    ")"
   ]
  },
  {
   "cell_type": "code",
   "execution_count": null,
   "id": "a7127bbc",
   "metadata": {},
   "outputs": [],
   "source": [
    "import rerun as rr\n",
    "import numpy as np\n",
    "\n",
    "rr.init(\"rerun_example_my_data\", spawn=True)\n",
    "\n",
    "SIZE = 10\n",
    "\n",
    "pos_grid = np.meshgrid(*[np.linspace(-10, 10, SIZE)]*3)\n",
    "positions = np.vstack([d.reshape(-1) for d in pos_grid]).T\n",
    "\n",
    "col_grid = np.meshgrid(*[np.linspace(0, 255, SIZE)]*3)\n",
    "colors = np.vstack([c.reshape(-1) for c in col_grid]).astype(np.uint8).T\n",
    "\n",
    "rr.log(\n",
    "    \"my_points\",\n",
    "    rr.Points3D(positions, colors=colors, radii=0.5)\n",
    ")"
   ]
  },
  {
   "cell_type": "code",
   "execution_count": null,
   "id": "759d2169",
   "metadata": {},
   "outputs": [],
   "source": []
  },
  {
   "cell_type": "markdown",
   "id": "d9bd7e11",
   "metadata": {},
   "source": [
    "See the official ReRun [Python Quickstart](https://www.rerun.io/docs/getting-started/python) for more information about ReRun and what it can do for you."
   ]
  },
  {
   "cell_type": "markdown",
   "id": "4c99099e",
   "metadata": {},
   "source": [
    "Mito Sheet empowers you to leverage your Excel proficiency within the JupyterLab environment. Seamlessly analyze datasets, perform computations, and visualize results – all within the familiar interface you know and love. Embrace the power of Mito Sheet for a more integrated and efficient data analysis experience."
   ]
  }
 ],
 "metadata": {
  "kernelspec": {
   "display_name": "Python 3 (ipykernel)",
   "language": "python",
   "name": "python3"
  },
  "language_info": {
   "codemirror_mode": {
    "name": "ipython",
    "version": 3
   },
   "file_extension": ".py",
   "mimetype": "text/x-python",
   "name": "python",
   "nbconvert_exporter": "python",
   "pygments_lexer": "ipython3",
   "version": "3.10.13"
  }
 },
 "nbformat": 4,
 "nbformat_minor": 5
}
