{
 "cells": [
  {
   "cell_type": "markdown",
   "id": "96c4b9a3-d041-49f0-b210-642820fb1c95",
   "metadata": {},
   "source": [
    "# Visual Python: Simplifying Data Analysis for Python Learners\n",
    "\n",
    "Visual Python appears as an intuitive GUI-based Python code generator, seamlessly integrated with Jupyter Lab, Jupyter Notebook, and Google Colab. Additionally, users can opt for the standalone Visual Python Desktop. This open source project was launched to help students navigate Python for Data Science courses, providing a streamlined approach to coding.\n",
    "\n",
    "![](visual-python.png)\n",
    "![](visual-python-2.png)\n",
    "\n",
    "\n",
    "## Key Benefits:\n",
    "\n",
    "- **Data management with minimal coding:** Visual Python makes it easy to manage large data sets with minimal coding skills, making it ideal for beginners.\n",
    "- **Overcome Learning Barriers:** Designed for students, business analysts, and researchers, Visual Python helps overcome learning barriers associated with Python programming.\n",
    "- **Snippet Management:** Effortlessly save and reuse frequently used code snippets.\n",
    "\n",
    "## Installation:\n",
    "\n",
    "To harness the power of Visual Python, install the required packages using the following command:"
   ]
  },
  {
   "cell_type": "code",
   "execution_count": null,
   "id": "f0846eab-a46a-419a-b813-3e783055e2d2",
   "metadata": {
    "tags": []
   },
   "outputs": [],
   "source": [
    "%%capture\n",
    "! pip install -U jupyterlab-visualpython plotly wordcloud"
   ]
  },
  {
   "cell_type": "markdown",
   "id": "531c93e5-1f49-4533-827c-f0530d5a41f1",
   "metadata": {},
   "source": [
    "## Example with Pokémon dataset:\n",
    "\n",
    "Let's explore the capabilities of Visual Python using the Pokémon dataset. This example demonstrates how Visual Python generates code for a word cloud, providing a visual representation without needing to memorize the complex syntax of matplotlib."
   ]
  },
  {
   "cell_type": "code",
   "execution_count": null,
   "id": "721643e5-8630-435d-80b3-ff3b6ca32eef",
   "metadata": {
    "tags": []
   },
   "outputs": [],
   "source": [
    "import pandas as pd\n",
    "from ydata_profiling.utils.cache import cache_file\n",
    "from wordcloud import WordCloud\n",
    "from collections import Counter\n",
    "import matplotlib.pyplot as plt\n",
    "%matplotlib inline\n",
    "\n",
    "file_name = cache_file(\n",
    "    \"pokemon.csv\",\n",
    "    \"https://raw.githubusercontent.com/bryanpaget/html/main/pokemon.csv\"\n",
    ")\n",
    "\n",
    "pokemon_df = pd.read_csv(file_name)\n",
    "counts = Counter(pokemon_df[[\"Type 1\"]].to_string().split())\n",
    "tags = counts.most_common(200)\n",
    "\n",
    "wc = WordCloud(max_font_size=200, background_color='white', width=1000, height=800)\n",
    "cloud = wc.generate_from_frequencies(dict(tags))\n",
    "\n",
    "plt.figure(figsize=(8, 20))\n",
    "plt.imshow(cloud)\n",
    "plt.tight_layout(pad=0)\n",
    "plt.axis('off')\n",
    "plt.show()"
   ]
  },
  {
   "cell_type": "markdown",
   "id": "3c8e62bd-5665-4736-9177-0ae2588b7a25",
   "metadata": {
    "tags": []
   },
   "source": [
    "## Descriptive statistics and visualization:\n",
    "\n",
    "Visual Python extends its capabilities to descriptive statistics and data visualization. The code snippet below shows how Visual Python simplifies the process, generating graphs and statistics with minimal effort."
   ]
  },
  {
   "cell_type": "code",
   "execution_count": null,
   "id": "aaa63db8-80c0-4294-bc06-aaf44d641caf",
   "metadata": {},
   "outputs": [],
   "source": [
    "import numpy as np\n",
    "import pandas as pd\n",
    "import matplotlib.pyplot as plt\n",
    "import seaborn as sns\n",
    "import plotly.express as px\n",
    "from plotly.offline import init_notebook_mode\n",
    "import pyarrow as pa\n",
    "\n",
    "init_notebook_mode(connected=True)\n",
    "%matplotlib inline\n",
    "\n",
    "vp_df = pokemon_df[['HP', 'Attack', 'Defense', 'Speed']].copy()\n",
    "vp_df.head()"
   ]
  },
  {
   "cell_type": "markdown",
   "id": "23f7cbae-0e6a-4348-b621-aa6b4cdc3827",
   "metadata": {},
   "source": [
    "## Descriptive statistics"
   ]
  },
  {
   "cell_type": "code",
   "execution_count": null,
   "id": "42c11d32-9640-46f8-a2ea-d7a3a0cdd391",
   "metadata": {},
   "outputs": [],
   "source": [
    "from IPython.display import display, Markdown\n",
    "display(pd.DataFrame({\n",
    "    'N Total':vp_df.shape[0],\n",
    "    'N Valid':vp_df.count(numeric_only=True),\n",
    "    'N Missing':vp_df.loc[:,vp_df.apply(pd.api.types.is_numeric_dtype)].isnull().sum(),\n",
    "    'Mean':vp_df.mean(numeric_only=True),\n",
    "    'Median':vp_df.median(numeric_only=True),\n",
    "    'Mode':vp_df.mode(numeric_only=True).iloc[0],\n",
    "    'Sum':vp_df.sum(numeric_only=True),\n",
    "    'Minimun':vp_df.min(numeric_only=True),\n",
    "    'Maximum':vp_df.max(numeric_only=True),\n",
    "    'Range':vp_df.max(numeric_only=True) - vp_df.min(numeric_only=True),\n",
    "    'Std. deviation':vp_df.std(numeric_only=True),\n",
    "    'S.E. mean':vp_df.std(numeric_only=True)/np.sqrt(vp_df.count(numeric_only=True)),\n",
    "    'Skewness':vp_df.skew(numeric_only=True),\n",
    "    'Kurtosis':vp_df.kurtosis(numeric_only=True),\n",
    "    'Percentile: 25':vp_df.quantile(q=0.25, numeric_only=True),\n",
    "    'Percentile: 50':vp_df.quantile(q=0.50, numeric_only=True),\n",
    "    'Percentile: 75':vp_df.quantile(q=0.75, numeric_only=True),\n",
    "}).round(3).T)"
   ]
  },
  {
   "cell_type": "markdown",
   "id": "f2aa8bc8-3780-484b-804d-26a47fdfc87b",
   "metadata": {},
   "source": [
    "## Frequency table"
   ]
  },
  {
   "cell_type": "code",
   "execution_count": null,
   "id": "645552ad-04be-424a-bebd-ca88b05c7b87",
   "metadata": {},
   "outputs": [],
   "source": [
    "for col in vp_df.columns:\n",
    "    if pd.api.types.is_numeric_dtype(vp_df[col]) and  vp_df[col].value_counts().size > 10:\n",
    "        _bins = 10\n",
    "    else: _bins = None\n",
    "        \n",
    "    _dfr = pd.DataFrame({\n",
    "              'Frequency':vp_df[col].value_counts(bins=_bins, sort=False),\n",
    "              'Percent':100*(vp_df[col].value_counts(bins=_bins, sort=False) / vp_df[col].size),\n",
    "              'Valid percent':100*(vp_df[col].value_counts(bins=_bins, sort=False)/vp_df[col].count())\n",
    "}).round(2)\n",
    "    _dfr['Cumulative percent'] = _dfr['Valid percent'].cumsum()\n",
    "    _dfr.loc['N Valid',:] =  _dfr.iloc[:,:3].sum()\n",
    "    _dfr.loc['N Missing','Frequency'] =  vp_df[col].isnull().sum()\n",
    "    _dfr.loc['N Total','Frequency'] =  vp_df[col].size\n",
    "    display(Markdown(f\"### {col}\"))\n",
    "    display(_dfr)"
   ]
  },
  {
   "cell_type": "markdown",
   "id": "af53395b-9b13-4d14-ac68-e448cfbf56e8",
   "metadata": {},
   "source": [
    "## Charts"
   ]
  },
  {
   "cell_type": "code",
   "execution_count": null,
   "id": "b03856ce-da7e-498e-ab49-5f80868f1994",
   "metadata": {},
   "outputs": [],
   "source": [
    "import seaborn as sns\n",
    "import warnings\n",
    "with warnings.catch_warnings():\n",
    "    warnings.simplefilter(action='ignore', category=Warning)\n",
    "\n",
    "    display(Markdown(\"### Histogram\"))\n",
    "    idx = 1\n",
    "    for col in vp_df.columns:\n",
    "        plt.subplot(2,2, idx)\n",
    "        if pd.api.types.is_numeric_dtype(vp_df[col]) and  vp_df[col].value_counts().size > 10:\n",
    "            sns.histplot(data=vp_df, x=col, kde=True)\n",
    "        else:\n",
    "            sns.countplot(data=vp_df, x=col)\n",
    "        \n",
    "        if idx < 4:\n",
    "            idx += 1\n",
    "        else:\n",
    "            idx = 1\n",
    "            plt.tight_layout()\n",
    "            plt.show()\n",
    "        \n",
    "    display(Markdown(\"### Scatter Plot\"))\n",
    "    pd.plotting.scatter_matrix(vp_df, marker='o', hist_kwds={'bins': 30}, s=30, alpha=.8)\n",
    "    plt.show()\n",
    "\n",
    "    display(Markdown(\"### Boxplot\"))\n",
    "    sns.boxplot(vp_df)\n",
    "    plt.show()"
   ]
  },
  {
   "cell_type": "markdown",
   "id": "bbea9790-0d4e-4f74-8763-ae5e72943271",
   "metadata": {},
   "source": [
    "## Seaborn visualization with Visual Python:\n",
    "\n",
    "Visual Python makes creating Seaborn charts and graphics simple. No need to dig through the documentation; Visual Python works as a templating system, generating code that can be easily modified."
   ]
  },
  {
   "cell_type": "code",
   "execution_count": null,
   "id": "e640c621-2a18-466d-bdbf-3a72f2ca4258",
   "metadata": {},
   "outputs": [],
   "source": [
    "sns.scatterplot(data=pokemon_df, x='HP', y='Defense', hue='Attack', color='#d6d6d6')\n",
    "plt.legend(loc='upper right')\n",
    "plt.title('Pokemon')\n",
    "plt.xlabel('HP')\n",
    "plt.ylabel('Defense')\n",
    "plt.show()"
   ]
  },
  {
   "cell_type": "markdown",
   "id": "34659675-8cb3-42a3-b62d-1de5af67036e",
   "metadata": {},
   "source": [
    "Strengthen your Python learning journey with Visual Python, reducing barriers to data analysis and visualization, especially for those accustomed to Excel, Power BI and SAS in the area of government national statistical organizations."
   ]
  }
 ],
 "metadata": {
  "kernelspec": {
   "display_name": "Python 3 (ipykernel)",
   "language": "python",
   "name": "python3"
  },
  "language_info": {
   "codemirror_mode": {
    "name": "ipython",
    "version": 3
   },
   "file_extension": ".py",
   "mimetype": "text/x-python",
   "name": "python",
   "nbconvert_exporter": "python",
   "pygments_lexer": "ipython3",
   "version": "3.10.12"
  }
 },
 "nbformat": 4,
 "nbformat_minor": 5
}
