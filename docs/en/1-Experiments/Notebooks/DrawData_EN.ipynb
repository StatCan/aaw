{
 "cells": [
  {
   "cell_type": "markdown",
   "id": "5665986c-f484-437d-9c69-6e2fb9ca2741",
   "metadata": {},
   "source": [
    "# Draw Data: Creating Synthetic Datasets with Ease\n",
    "\n",
    "Ever wished you could effortlessly generate a dataset by visually sketching points on a Cartesian plane? Meet Draw Data, a handy Python app designed for Jupyter notebooks. This tool allows you to craft toy or synthetic datasets by simply drawing your ideas directly onto the chart. It proves particularly valuable when teaching machine learning algorithms.\n",
    "\n",
    "![](drawdata-1.png)\n",
    "![](drawdata-2.png)"
   ]
  },
  {
   "cell_type": "markdown",
   "id": "7e22fff3-f538-4ea2-b81c-26a1aaa058b9",
   "metadata": {},
   "source": [
    "## Installation:"
   ]
  },
  {
   "cell_type": "code",
   "execution_count": null,
   "id": "edb64c8b-59f1-42d3-87e0-97aca11a8ac7",
   "metadata": {
    "tags": []
   },
   "outputs": [],
   "source": [
    "%%capture\n",
    "! pip install -U drawdata"
   ]
  },
  {
   "cell_type": "markdown",
   "id": "97f8e6e4-8be5-49c2-9803-cb505aa87499",
   "metadata": {},
   "source": [
    "## Getting Started:\n",
    "\n",
    "To draw a dataset, execute the following cell. You can sketch up to four classes of points. Afterward, click \"Copy CSV,\" and your data points, presented as x, y, z comma-separated values, will be copied to the clipboard. To import the data into a Pandas DataFrame, use the following code:"
   ]
  },
  {
   "cell_type": "code",
   "execution_count": null,
   "id": "c20c0812-a0a9-491c-9c0c-4144eec21b0b",
   "metadata": {
    "tags": []
   },
   "outputs": [],
   "source": [
    "from drawdata import draw_scatter\n",
    "\n",
    "draw_scatter()"
   ]
  },
  {
   "cell_type": "markdown",
   "id": "3b92e81d-f46b-4411-9ee4-734838bcb9be",
   "metadata": {},
   "source": [
    "## Viewing the Data Table:\n",
    "\n",
    "Once you've completed your drawing, copy the data to the clipboard. The next step involves using Pandas to read the clipboard and populate a DataFrame. Here's a glimpse of the initial entries:"
   ]
  },
  {
   "cell_type": "code",
   "execution_count": null,
   "id": "eec428d3-5bb0-4c02-ab70-1e91da46291e",
   "metadata": {
    "tags": []
   },
   "outputs": [],
   "source": [
    "import pandas as pd\n",
    "\n",
    "# Reading the clipboard into a DataFrame\n",
    "df = pd.read_clipboard(sep=\",\")\n",
    "df"
   ]
  },
  {
   "cell_type": "markdown",
   "id": "9161b704-2af1-4e65-a07c-ec2d6a53551c",
   "metadata": {},
   "source": [
    "## Plotting the Drawn Data:\n",
    "\n",
    "Visualizing the drawn points becomes a breeze with Plotly, which provides an interactive chart. The following code snippet accomplishes this:"
   ]
  },
  {
   "cell_type": "code",
   "execution_count": null,
   "id": "dd70f514-2ff4-42a3-b3a1-2d7dff468d3b",
   "metadata": {
    "tags": []
   },
   "outputs": [],
   "source": [
    "import plotly.express as px\n",
    "import plotly\n",
    "\n",
    "plotly.offline.init_notebook_mode(connected=True)\n",
    "\n",
    "# Creating an interactive scatter plot\n",
    "fig = px.scatter(df, x='x', y='y', color='z')\n",
    "fig.update_layout(\n",
    "    autosize=False,\n",
    "    width=800,\n",
    "    height=800,\n",
    ")\n",
    "fig.show()"
   ]
  },
  {
   "cell_type": "markdown",
   "id": "3976a320-0acb-4e36-a34f-6d317b0ef642",
   "metadata": {},
   "source": [
    "This comprehensive guide empowers you to seamlessly draw, analyze, and visualize your synthetic dataset, making the process of teaching machine learning concepts more intuitive and engaging.\n",
    "\n",
    "\n",
    "\n",
    "\n",
    "\n"
   ]
  }
 ],
 "metadata": {
  "kernelspec": {
   "display_name": "Python 3 (ipykernel)",
   "language": "python",
   "name": "python3"
  },
  "language_info": {
   "codemirror_mode": {
    "name": "ipython",
    "version": 3
   },
   "file_extension": ".py",
   "mimetype": "text/x-python",
   "name": "python",
   "nbconvert_exporter": "python",
   "pygments_lexer": "ipython3",
   "version": "3.10.12"
  }
 },
 "nbformat": 4,
 "nbformat_minor": 5
}
