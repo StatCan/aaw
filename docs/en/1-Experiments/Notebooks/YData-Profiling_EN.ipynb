{
 "cells": [
  {
   "cell_type": "markdown",
   "id": "4def9a9b",
   "metadata": {},
   "source": [
    "# YData Profiling: Streamlining Data Analysis\n",
    "\n",
    "YData Profiling stands as a powerful tool designed to simplify and enhance the data exploration experience, catering specifically to the needs of statisticians and data scientists. With a focus on providing a one-line Exploratory Data Analysis (EDA) solution, YData Profiling delivers an extended analysis of your DataFrame, akin to the convenience offered by pandas' `df.describe()` function. This analysis can be seamlessly exported in different formats such as HTML and JSON.\n",
    "\n",
    "![](ydata.png)\n",
    "\n",
    "## Quickstart:\n",
    "\n",
    "Getting started with YData Profiling is straightforward. Begin by installing the library using either of the following commands:"
   ]
  },
  {
   "cell_type": "code",
   "execution_count": null,
   "id": "5e164837",
   "metadata": {
    "tags": []
   },
   "outputs": [],
   "source": [
    "%%capture\n",
    "! pip install -U ydata-profiling ipywidgets scikit-learn"
   ]
  },
  {
   "cell_type": "markdown",
   "id": "f7976208-fed4-4e16-9289-37d0558c4766",
   "metadata": {
    "tags": []
   },
   "source": [
    "## Key Features:\n",
    "\n",
    "- **Type Inference:** Automatically detects columns' data types, including Categorical, Numerical, Date, etc.\n",
    "- **Warnings:** Summarizes potential data quality issues such as missing data, inaccuracies, skewness, etc.\n",
    "- **Univariate Analysis:** Provides descriptive statistics and informative visualizations like distribution histograms.\n",
    "- **Multivariate Analysis:** Includes correlations, detailed analysis of missing data, duplicate rows, and visual support for pairwise interactions.\n",
    "- **Time-Series Analysis:** Offers statistical information relative to time-dependent data, along with auto-correlation and seasonality insights.\n",
    "- **Text and File Analysis:** Includes text category detection and file/image analysis for comprehensive exploration.\n",
    "- **Comparing Datasets:** Enables a fast and complete report on the comparison of datasets with a single line of code.\n",
    "\n",
    "## Example Code:\n",
    "\n",
    "For a practical demonstration, consider the following example generating a standard report for a Pokémon dataset:"
   ]
  },
  {
   "cell_type": "markdown",
   "id": "65651a27",
   "metadata": {},
   "source": [
    "### Generating a Standard Report \n",
    "\n",
    "This cell contains a script to fetch a Pokemon dataset and display the default `ProfileReport` from `ydata_profiling`. The report includes some additional correlation calculations (see line 23 below). Line 34 `profile_report.to_file(\"pokemon.html\")` saves the report to an HTML file which you can open in a new browser tab.\n",
    "\n",
    "[Click here to see the output.](../output/pokemon.html)"
   ]
  },
  {
   "cell_type": "code",
   "execution_count": null,
   "id": "89a2abfb",
   "metadata": {},
   "outputs": [],
   "source": [
    "import numpy as np\n",
    "import pandas as pd\n",
    "\n",
    "from ydata_profiling import ProfileReport\n",
    "from ydata_profiling.utils.cache import cache_file\n",
    "\n",
    "\n",
    "file_name = cache_file(\n",
    "    \"pokemon.csv\",\n",
    "    \"https://raw.githubusercontent.com/bryanpaget/html/main/pokemon.csv\"\n",
    ")\n",
    "\n",
    "pokemon_df = pd.read_csv(file_name)\n",
    "\n",
    "profile_report = ProfileReport(\n",
    "    pokemon_df,\n",
    "    sort=None,\n",
    "    html={\n",
    "        \"style\": {\"full_width\": True}\n",
    "    }, \n",
    "    progress_bar=False,\n",
    "    correlations={\n",
    "        \"auto\": {\"calculate\": True},\n",
    "        \"pearson\": {\"calculate\": False},\n",
    "        \"spearman\": {\"calculate\": False},\n",
    "        \"kendall\": {\"calculate\": False},\n",
    "        \"phi_k\": {\"calculate\": True},\n",
    "        \"cramers\": {\"calculate\": True},\n",
    "    },\n",
    "    explorative=True,\n",
    "    title=\"Profiling Report\"\n",
    ")\n",
    "\n",
    "profile_report.to_file(\"../output/pokemon.html\")\n",
    "\n",
    "profile_report"
   ]
  },
  {
   "cell_type": "markdown",
   "id": "ba035890",
   "metadata": {},
   "source": [
    "### Comparing Datasets\n",
    "\n",
    "We can also generate reports comparing two datasets. This example below compares training and test pokemon datasets. `train_test_split` from `scikit-learn` is used to create the train and test datasets. \n",
    "\n",
    "[Click here to see the output.](../output/comparison.html)"
   ]
  },
  {
   "cell_type": "code",
   "execution_count": null,
   "id": "3f892b9a",
   "metadata": {},
   "outputs": [],
   "source": [
    "import numpy as np\n",
    "from sklearn.model_selection import train_test_split\n",
    "\n",
    "from ydata_profiling import ProfileReport\n",
    "\n",
    "\n",
    "file_name = cache_file(\n",
    "    \"pokemon.csv\",\n",
    "    \"https://raw.githubusercontent.com/bryanpaget/html/main/pokemon.csv\"\n",
    ")\n",
    "\n",
    "pokemon_df = pd.read_csv(file_name)\n",
    "\n",
    "X = pokemon_df[['Total', 'HP', 'Attack', 'Defense', 'Sp. Atk', 'Sp. Def', 'Speed']]\n",
    "y = pokemon_df[['Type 1', 'Type 2']]\n",
    "\n",
    "X_train, X_test, y_train, y_test = train_test_split(\n",
    "    X, y, test_size=0.33, random_state=42)\n",
    "\n",
    "train_df = X_train\n",
    "train_report = ProfileReport(train_df, title=\"Train\")\n",
    "\n",
    "test_df = X_test\n",
    "test_report = ProfileReport(test_df, title=\"Test\")\n",
    "\n",
    "comparison_report = train_report.compare(test_report)\n",
    "comparison_report.to_file(\"../output/comparison.html\")\n",
    "\n",
    "comparison_report"
   ]
  },
  {
   "cell_type": "markdown",
   "id": "a0bfa8db",
   "metadata": {},
   "source": [
    "### Time-Series Data Analysis:\n",
    "\n",
    "For time-series datasets, YData Profiling introduces a specialized time-series mode, as illustrated in the analysis of Microsoft's stock price:\n",
    "\n",
    "[Click here to see the output.](../output/msft-report-timeseries.html)"
   ]
  },
  {
   "cell_type": "code",
   "execution_count": null,
   "id": "8b9f5611",
   "metadata": {
    "tags": []
   },
   "outputs": [],
   "source": [
    "import numpy as np\n",
    "import pandas as pd\n",
    "from ydata_profiling import ProfileReport\n",
    "from ydata_profiling.utils.cache import cache_file\n",
    "\n",
    "file_name = cache_file(\n",
    "    \"msft.csv\",\n",
    "    \"https://raw.githubusercontent.com/bryanpaget/html/main/msft.csv\"\n",
    ")\n",
    "\n",
    "msft_df = pd.read_csv(file_name)\n",
    "msft_df[\"Date\"] = pd.to_datetime(msft_df[\"Date\"])\n",
    "\n",
    "# Enable tsmode to True to automatically identify time-series variables\n",
    "# Provide the column name that provides the chronological order of your time-series\n",
    "profile = ProfileReport(msft_df, tsmode=True, sortby=\"Date\", title=\"Time-Series EDA\")\n",
    "\n",
    "profile.to_file(\"../output/msft-report-timeseries.html\")\n",
    "\n",
    "profile"
   ]
  },
  {
   "cell_type": "markdown",
   "id": "c691087c-cdf4-4db0-a054-5834e7ae6b36",
   "metadata": {},
   "source": [
    "Explore the capabilities of YData Profiling and transform your data analysis workflow into a seamless and comprehensive experience, aligning with the familiarity of Excel, Power BI, and SAS."
   ]
  }
 ],
 "metadata": {
  "kernelspec": {
   "display_name": "Python 3 (ipykernel)",
   "language": "python",
   "name": "python3"
  },
  "language_info": {
   "codemirror_mode": {
    "name": "ipython",
    "version": 3
   },
   "file_extension": ".py",
   "mimetype": "text/x-python",
   "name": "python",
   "nbconvert_exporter": "python",
   "pygments_lexer": "ipython3",
   "version": "3.10.12"
  }
 },
 "nbformat": 4,
 "nbformat_minor": 5
}
