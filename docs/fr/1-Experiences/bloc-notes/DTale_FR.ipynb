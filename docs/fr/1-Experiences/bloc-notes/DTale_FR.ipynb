{
 "cells": [
  {
   "cell_type": "markdown",
   "id": "76784523-1230-4c92-8cac-753cc0f8613e",
   "metadata": {},
   "source": [
    "# D-Tale: un outil d'exploration de données transparente pour Python\n",
    "\n",
    "D-Tale, né d'une conversion SAS vers Python, transforme le processus d'exploration des données en un jeu d'enfant. À l'origine un wrapper de script Perl pour la fonction d'analyse de SAS, il a évolué vers un client Web léger parfaitement intégré aux structures de données Pandas.\n",
    "\n",
    "Construit sur un back-end Flask et un front-end React, D-Tale offre une méthode simple pour visualiser et analyser les structures de données Pandas. Son intégration transparente avec les bloc-notes Jupyter et les terminaux Python/IPython en fait un outil polyvalent. Actuellement, il prend en charge divers objets Pandas, notamment DataFrame, Series, MultiIndex, DatetimeIndex et RangeIndex.\n",
    "\n",
    "D-Tale est une solution qui simplifie l'exploration des données. Agissant comme un client Web léger sur les structures de données Pandas, D-Tale offre une interface utilisateur intuitive pour effectuer diverses tâches d'exploration de données sans avoir besoin d'écrire de code.\n",
    "\n",
    "![](dtale.png)\n",
    "\n",
    "![](dtale-menu.png)\n",
    "\n",
    "![](dtale-2.png)\n",
    "\n",
    "## Installation:"
   ]
  },
  {
   "cell_type": "code",
   "execution_count": null,
   "id": "c1a92ee3-40b7-4a8c-b51b-4e007efe6593",
   "metadata": {
    "tags": []
   },
   "outputs": [],
   "source": [
    "%%capture\n",
    "! pip install -U dtale"
   ]
  },
  {
   "cell_type": "markdown",
   "id": "7b7fffba-5e2e-4381-973b-6da1a9dc1bb2",
   "metadata": {},
   "source": [
    "## Utilisation:"
   ]
  },
  {
   "cell_type": "code",
   "execution_count": null,
   "id": "31bec97e-6100-43ba-b41e-68fb3f837116",
   "metadata": {
    "tags": []
   },
   "outputs": [],
   "source": [
    "import dtale\n",
    "import pandas as pd\n",
    "from ydata_profiling.utils.cache import cache_file\n",
    "\n",
    "# Récupération de l'ensemble de données Pokémon\n",
    "file_name = cache_file(\n",
    "    \"pokemon.csv\",\n",
    "    \"https://raw.githubusercontent.com/bryanpaget/html/main/pokemon.csv\"\n",
    ")\n",
    "\n",
    "# Lecture d'un ensemble de données à l'aide de Pandas\n",
    "pokemon_df = pd.read_csv(file_name)\n",
    "\n",
    "# Affichage d'un ensemble de données avec D-Tale\n",
    "dtale.show(pokemon_df)"
   ]
  },
  {
   "cell_type": "markdown",
   "id": "863aff9f-8be9-4231-ade4-21377856b1a0",
   "metadata": {},
   "source": [
    "D-Tale vient à la rescousse en fournissant une interface conviviale pour les tâches essentielles d'exploration de données, éliminant ainsi le besoin de code répétitif et permettant de gagner un temps précieux dans le processus."
   ]
  }
 ],
 "metadata": {
  "kernelspec": {
   "display_name": "Python 3 (ipykernel)",
   "language": "python",
   "name": "python3"
  },
  "language_info": {
   "codemirror_mode": {
    "name": "ipython",
    "version": 3
   },
   "file_extension": ".py",
   "mimetype": "text/x-python",
   "name": "python",
   "nbconvert_exporter": "python",
   "pygments_lexer": "ipython3",
   "version": "3.10.12"
  }
 },
 "nbformat": 4,
 "nbformat_minor": 5
}
