{
 "cells": [
  {
   "cell_type": "markdown",
   "id": "4def9a9b",
   "metadata": {},
   "source": [
    "# Profilage YData: rationalisation de l'analyse des données\n",
    "\n",
    "YData Profiling se présente comme un outil puissant conçu pour simplifier et améliorer l'expérience d'exploration des données, répondant spécifiquement aux besoins des statisticiens et des data scientists. En mettant l'accent sur la fourniture d'une solution d'analyse exploratoire des données (EDA) en une seule ligne, YData Profiling fournit une analyse étendue de votre DataFrame, semblable à la commodité offerte par la fonction `df.describe()` de pandas. Cette analyse peut être exportée de manière transparente dans différents formats tels que HTML et JSON.\n",
    "\n",
    "![](ydata.png)\n",
    "\n",
    "## Démarrage rapide:\n",
    "\n",
    "Démarrer avec YData Profiling est simple. Commencez par installer la bibliothèque à l'aide de l'une des commandes suivantes:"
   ]
  },
  {
   "cell_type": "code",
   "execution_count": null,
   "id": "5e164837",
   "metadata": {
    "tags": []
   },
   "outputs": [],
   "source": [
    "%%capture\n",
    "! pip install -U ydata-profiling ipywidgets scikit-learn"
   ]
  },
  {
   "cell_type": "markdown",
   "id": "f7976208-fed4-4e16-9289-37d0558c4766",
   "metadata": {
    "tags": []
   },
   "source": [
    "## Principales caractéristiques:\n",
    "\n",
    "- **Inférence de type:** Détecte automatiquement les types de données des colonnes, notamment catégoriques, numériques, date, etc.\n",
    "- **Avertissements:** Résume les problèmes potentiels de qualité des données tels que les données manquantes, les inexactitudes, l'asymétrie, etc.\n",
    "- **Analyse univariée:** Fournit des statistiques descriptives et des visualisations informatives telles que des histogrammes de distribution.\n",
    "- **Analyse multivariée:** Comprend des corrélations, une analyse détaillée des données manquantes, des lignes en double et une prise en charge visuelle des interactions par paires.\n",
    "- **Analyse des séries chronologiques:** Offre des informations statistiques relatives aux données dépendantes du temps, ainsi que des informations sur l'autocorrélation et la saisonnalité.\n",
    "- **Analyse de texte et de fichiers:** Comprend la détection de catégories de texte et l'analyse de fichiers/images pour une exploration complète.\n",
    "- **Comparaison d'ensembles de données:** Permet d'obtenir un rapport rapide et complet sur la comparaison d'ensembles de données avec une seule ligne de code.\n",
    "\n",
    "## Exemple de code:\n",
    "\n",
    "Pour une démonstration pratique, considérons l'exemple suivant générant un rapport standard pour un ensemble de données Pokémon:"
   ]
  },
  {
   "cell_type": "markdown",
   "id": "65651a27",
   "metadata": {},
   "source": [
    "### Génération d'un rapport standard\n",
    "\n",
    "Cette cellule contient un script pour récupérer un ensemble de données Pokémon et afficher le « ProfileReport » par défaut à partir de « ydata_profiling ». Le rapport comprend des calculs de corrélation supplémentaires (voir ligne 23 ci-dessous). La ligne 34 `profile_report.to_file(\"pokemon.html\")` enregistre le rapport dans un fichier HTML que vous pouvez ouvrir dans un nouvel onglet de navigateur.\n",
    "\n",
    "[Cliquez ici pour voir le résultat.](../output/pokemon.html)"
   ]
  },
  {
   "cell_type": "code",
   "execution_count": null,
   "id": "89a2abfb",
   "metadata": {},
   "outputs": [],
   "source": [
    "import numpy as np\n",
    "import pandas as pd\n",
    "\n",
    "from ydata_profiling import ProfileReport\n",
    "from ydata_profiling.utils.cache import cache_file\n",
    "\n",
    "\n",
    "file_name = cache_file(\n",
    "    \"pokemon.csv\",\n",
    "    \"https://raw.githubusercontent.com/bryanpaget/html/main/pokemon.csv\"\n",
    ")\n",
    "\n",
    "pokemon_df = pd.read_csv(file_name)\n",
    "\n",
    "profile_report = ProfileReport(\n",
    "    pokemon_df,\n",
    "    sort=None,\n",
    "    html={\n",
    "        \"style\": {\"full_width\": True}\n",
    "    }, \n",
    "    progress_bar=False,\n",
    "    correlations={\n",
    "        \"auto\": {\"calculate\": True},\n",
    "        \"pearson\": {\"calculate\": False},\n",
    "        \"spearman\": {\"calculate\": False},\n",
    "        \"kendall\": {\"calculate\": False},\n",
    "        \"phi_k\": {\"calculate\": True},\n",
    "        \"cramers\": {\"calculate\": True},\n",
    "    },\n",
    "    explorative=True,\n",
    "    title=\"Profiling Report\"\n",
    ")\n",
    "\n",
    "profile_report.to_file(\"../output/pokemon.html\")\n",
    "\n",
    "profile_report"
   ]
  },
  {
   "cell_type": "markdown",
   "id": "ba035890",
   "metadata": {},
   "source": [
    "### Comparaison d'ensembles de données\n",
    "\n",
    "Nous pouvons également générer des rapports comparant deux ensembles de données. Cet exemple ci-dessous compare les ensembles de données d'entraînement et de test Pokémon. `train_test_split` de `scikit-learn` est utilisé pour créer les ensembles de données d'entraînement et de test.\n",
    "\n",
    "[Cliquez ici pour voir le résultat.](../output/comparison.html)"
   ]
  },
  {
   "cell_type": "code",
   "execution_count": null,
   "id": "3f892b9a",
   "metadata": {},
   "outputs": [],
   "source": [
    "import numpy as np\n",
    "from sklearn.model_selection import train_test_split\n",
    "\n",
    "from ydata_profiling import ProfileReport\n",
    "\n",
    "\n",
    "file_name = cache_file(\n",
    "    \"pokemon.csv\",\n",
    "    \"https://raw.githubusercontent.com/bryanpaget/html/main/pokemon.csv\"\n",
    ")\n",
    "\n",
    "pokemon_df = pd.read_csv(file_name)\n",
    "\n",
    "X = pokemon_df[['Total', 'HP', 'Attack', 'Defense', 'Sp. Atk', 'Sp. Def', 'Speed']]\n",
    "y = pokemon_df[['Type 1', 'Type 2']]\n",
    "\n",
    "X_train, X_test, y_train, y_test = train_test_split(\n",
    "    X, y, test_size=0.33, random_state=42)\n",
    "\n",
    "train_df = X_train\n",
    "train_report = ProfileReport(train_df, title=\"Train\")\n",
    "\n",
    "test_df = X_test\n",
    "test_report = ProfileReport(test_df, title=\"Test\")\n",
    "\n",
    "comparison_report = train_report.compare(test_report)\n",
    "comparison_report.to_file(\"../output/comparison.html\")\n",
    "\n",
    "comparison_report"
   ]
  },
  {
   "cell_type": "markdown",
   "id": "a0bfa8db",
   "metadata": {},
   "source": [
    "### Analyse des données de séries chronologiques:\n",
    "\n",
    "Pour les ensembles de données de séries chronologiques, YData Profiling introduit un mode de série chronologique spécialisé, comme l'illustre l'analyse du cours de l'action Microsoft:\n",
    "\n",
    "[Cliquez ici pour voir le résultat.](../output/msft-report-timeseries.html)"
   ]
  },
  {
   "cell_type": "code",
   "execution_count": null,
   "id": "8b9f5611",
   "metadata": {
    "tags": []
   },
   "outputs": [],
   "source": [
    "import numpy as np\n",
    "import pandas as pd\n",
    "from ydata_profiling import ProfileReport\n",
    "from ydata_profiling.utils.cache import cache_file\n",
    "\n",
    "file_name = cache_file(\n",
    "    \"msft.csv\",\n",
    "    \"https://raw.githubusercontent.com/bryanpaget/html/main/msft.csv\"\n",
    ")\n",
    "\n",
    "msft_df = pd.read_csv(file_name)\n",
    "msft_df[\"Date\"] = pd.to_datetime(msft_df[\"Date\"])\n",
    "\n",
    "# Enable tsmode to True to automatically identify time-series variables\n",
    "# Provide the column name that provides the chronological order of your time-series\n",
    "profile = ProfileReport(msft_df, tsmode=True, sortby=\"Date\", title=\"Time-Series EDA\")\n",
    "\n",
    "profile.to_file(\"../output/msft-report-timeseries.html\")\n",
    "\n",
    "profile"
   ]
  },
  {
   "cell_type": "markdown",
   "id": "c691087c-cdf4-4db0-a054-5834e7ae6b36",
   "metadata": {},
   "source": [
    "Explorez les capacités de YData Profiling et transformez votre flux de travail d'analyse de données en une expérience transparente et complète, alignée sur la familiarité d'Excel, Power BI et SAS."
   ]
  }
 ],
 "metadata": {
  "kernelspec": {
   "display_name": "Python 3 (ipykernel)",
   "language": "python",
   "name": "python3"
  },
  "language_info": {
   "codemirror_mode": {
    "name": "ipython",
    "version": 3
   },
   "file_extension": ".py",
   "mimetype": "text/x-python",
   "name": "python",
   "nbconvert_exporter": "python",
   "pygments_lexer": "ipython3",
   "version": "3.10.12"
  }
 },
 "nbformat": 4,
 "nbformat_minor": 5
}
