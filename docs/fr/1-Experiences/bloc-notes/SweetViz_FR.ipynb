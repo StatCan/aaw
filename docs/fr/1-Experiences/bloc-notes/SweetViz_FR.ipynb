{
 "cells": [
  {
   "cell_type": "markdown",
   "id": "4a964959-e071-422d-af41-b5db86944d85",
   "metadata": {
    "tags": []
   },
   "source": [
    "# SweetViz: rationaliser l'EDA avec des visualisations élégantes\n",
    "\n",
    "SweetViz, une bibliothèque Python open source, simplifie le processus d'analyse exploratoire des données (EDA) avec seulement deux lignes de code, générant des visualisations époustouflantes et haute densité. Le résultat est une application HTML entièrement autonome, ce qui en fait un outil pratique pour un aperçu rapide des caractéristiques des données et des comparaisons entre les ensembles de données.\n",
    "\n",
    "![](sweetviz.png)\n",
    "\n",
    "## Principales caractéristiques:\n",
    "\n",
    "- **Analyse cible:** Visualisez comment une valeur cible (par exemple, « Survécu » dans l'ensemble de données Titanic) est en corrélation avec d'autres caractéristiques, ce qui facilite la compréhension des caractéristiques de la cible.\n",
    "- **Visualisez et comparez:** Comparez sans effort des ensembles de données distincts, tels que les données d'entraînement et de test, et explorez les caractéristiques intra-ensemble (par exemple, homme contre femme).\n",
    "- **Associations de types mixtes:** SweetViz intègre de manière transparente des associations pour les types de données numériques (corrélation de Pearson), catégorielles (coefficient d'incertitude) et catégorielles-numériques (rapport de corrélation), fournissant des informations complètes pour divers types de données.\n",
    "- **Inférence de type:** Détecte automatiquement les fonctionnalités numériques, catégorielles et textuelles, avec la possibilité de remplacements manuels si nécessaire.\n",
    "- **Informations récapitulatives:** Obtenez des informations sur le type, les valeurs uniques, les valeurs manquantes, les lignes en double et les valeurs les plus fréquentes dans l'ensemble de données.\n",
    "- **Analyse numérique:** Explorez les fonctionnalités numériques avec des statistiques telles que min/max/plage, quartiles, moyenne, mode, écart type, somme, écart absolu médian, coefficient de variation, aplatissement et asymétrie."
   ]
  },
  {
   "cell_type": "markdown",
   "id": "e06c95a2-939c-442d-8f93-8ed3c85c2d89",
   "metadata": {},
   "source": [
    "## Installation:\n",
    "\n",
    "Pour démarrer avec SweetViz, installez la bibliothèque ainsi que les autres dépendances nécessaires à l'aide de la commande suivante:"
   ]
  },
  {
   "cell_type": "code",
   "execution_count": null,
   "id": "15583324-4dd7-4626-9fdb-5df65a89f676",
   "metadata": {
    "scrolled": true,
    "tags": []
   },
   "outputs": [],
   "source": [
    "%%capture\n",
    "! pip install -U sweetviz ydata-profiling"
   ]
  },
  {
   "cell_type": "markdown",
   "id": "8e156964-23bb-4aca-b229-bf106711481d",
   "metadata": {},
   "source": [
    "## Exemple de base:\n",
    "\n",
    "Effectuer une EDA de base avec SweetViz ne nécessite que deux lignes de code. Dans l'exemple ci-dessous, nous analysons un ensemble de données Pokémon et générons un rapport détaillé:"
   ]
  },
  {
   "cell_type": "code",
   "execution_count": null,
   "id": "45baf03a-aad2-48e8-81f5-08d2d9992890",
   "metadata": {
    "execution": {
     "iopub.execute_input": "2023-11-27T18:35:07.276677Z",
     "iopub.status.busy": "2023-11-27T18:35:07.276404Z"
    },
    "tags": []
   },
   "outputs": [
    {
     "data": {
      "application/vnd.jupyter.widget-view+json": {
       "model_id": "1012fde0b0c5419c9b4883915ca9b670",
       "version_major": 2,
       "version_minor": 0
      },
      "text/plain": [
       "                                             |                                                                …"
      ]
     },
     "metadata": {},
     "output_type": "display_data"
    }
   ],
   "source": [
    "import sweetviz as sv\n",
    "import pandas as pd\n",
    "from ydata_profiling.utils.cache import cache_file\n",
    "\n",
    "\n",
    "file_name = cache_file(\n",
    "    \"pokemon.csv\",\n",
    "    \"https://raw.githubusercontent.com/bryanpaget/html/main/pokemon.csv\"\n",
    ")\n",
    "\n",
    "pokemon_df = pd.read_csv(file_name)\n",
    "\n",
    "my_report = sv.analyze(pokemon_df)\n",
    "my_report.show_notebook()"
   ]
  },
  {
   "cell_type": "markdown",
   "id": "28e199b3-5978-4a8a-a492-dfb5cea66474",
   "metadata": {},
   "source": [
    "## Comparaison de deux dataframes:\n",
    "\n",
    "SweetViz étend ses capacités pour comparer deux ensembles de données, tels que des ensembles de formation et de test. Dans cet exemple plus complexe, nous examinons les différences dans la fonctionnalité « Attaque »:"
   ]
  },
  {
   "cell_type": "code",
   "execution_count": null,
   "id": "4a52f76a-7532-4060-a854-28427a4b1014",
   "metadata": {},
   "outputs": [],
   "source": [
    "from sklearn.model_selection import train_test_split\n",
    "\n",
    "X = pokemon_df[['Total', 'HP', 'Attack', 'Defense', 'Sp. Atk', 'Sp. Def', 'Speed']]\n",
    "y = pokemon_df[['Type 1', 'Type 2']]\n",
    "\n",
    "X_train, X_test, y_train, y_test = train_test_split(\n",
    "    X, y, test_size=0.33, random_state=42)\n",
    "\n",
    "train_df = X_train\n",
    "test_df = X_test\n",
    "\n",
    "comparison_report = sv.compare(train_df, test_df, target_feat='Attack')\n",
    "comparison_report.show_notebook()"
   ]
  },
  {
   "cell_type": "markdown",
   "id": "6dfa813c-0a06-4ca8-b151-0ca73aa381a9",
   "metadata": {},
   "source": [
    "Renforcez votre parcours d'exploration de données avec SweetViz, en créant des rapports visuellement attrayants et informatifs avec un minimum d'effort. Que vous soyez un data scientist, un étudiant ou un chercheur, SweetViz propose une approche conviviale pour obtenir un aperçu rapide de vos ensembles de données."
   ]
  }
 ],
 "metadata": {
  "kernelspec": {
   "display_name": "Python 3 (ipykernel)",
   "language": "python",
   "name": "python3"
  },
  "language_info": {
   "codemirror_mode": {
    "name": "ipython",
    "version": 3
   },
   "file_extension": ".py",
   "mimetype": "text/x-python",
   "name": "python",
   "nbconvert_exporter": "python",
   "pygments_lexer": "ipython3",
   "version": "3.10.12"
  }
 },
 "nbformat": 4,
 "nbformat_minor": 5
}
