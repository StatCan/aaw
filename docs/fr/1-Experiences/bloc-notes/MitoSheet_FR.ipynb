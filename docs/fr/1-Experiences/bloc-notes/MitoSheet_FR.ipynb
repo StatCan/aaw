{
 "cells": [
  {
   "cell_type": "markdown",
   "id": "1bd46748-42b9-46ea-9fea-fee20634a793",
   "metadata": {},
   "source": [
    "# Mito Sheet: feuilles de calcul de type Excel dans JupyterLab\n",
    "\n",
    "Mito Sheet propose un tableur parfaitement intégré à JupyterLab, apportant une expérience familière de type Excel à votre flux de travail d'analyse de données.\n",
    "\n",
    "![](mito-fullscreen.png)\n",
    "\n",
    "![](mito.png)\n",
    "\n",
    "\n",
    "## Installation:\n",
    "\n",
    "Pour installer Mito Sheet, exécutez la cellule suivante dans votre environnement JupyterLab:"
   ]
  },
  {
   "cell_type": "code",
   "execution_count": null,
   "id": "d9f41c51-e09f-4a37-b5e6-3ff4766001ea",
   "metadata": {
    "tags": []
   },
   "outputs": [],
   "source": [
    "%%capture\n",
    "! pip install -r requirements.txt\n",
    "! pip install -U mitosheet\n",
    "! python -m jupyter nbextension install --py --user mitosheet\n",
    "! python -m jupyter nbextension enable --py --user mitosheet"
   ]
  },
  {
   "cell_type": "markdown",
   "id": "b421be69-2741-4d5c-a3fa-f60f8d9187aa",
   "metadata": {
    "tags": []
   },
   "source": [
    "## Commencer:\n",
    "\n",
    "Commencez votre parcours Mito Sheet en exécutant l’extrait de code suivant:"
   ]
  },
  {
   "cell_type": "code",
   "execution_count": null,
   "id": "a2fa0eae-fceb-49a9-9c0f-4daf35d200f7",
   "metadata": {
    "tags": []
   },
   "outputs": [],
   "source": [
    "import mitosheet\n",
    "mitosheet.sheet(analysis_to_replay=\"id-nxpaeypddd\")"
   ]
  },
  {
   "cell_type": "markdown",
   "id": "a1d58f56-87f6-4ebc-9a6a-0502773d0be7",
   "metadata": {},
   "source": [
    "## Travailler avec des données Excel:\n",
    "\n",
    "Pour ceux qui sont habitués à Excel, la transition vers Mito Sheet se fait en toute transparence. Importons un ensemble de données de type Excel à titre d'illustration. Nous utiliserons un ensemble de données Pokémon populaire disponible en ligne:"
   ]
  },
  {
   "cell_type": "code",
   "execution_count": null,
   "id": "5b1b4720-3beb-4bf8-b104-3ac6dde49d08",
   "metadata": {
    "tags": []
   },
   "outputs": [],
   "source": [
    "import mitosheet\n",
    "import pandas as pd\n",
    "from ydata_profiling.utils.cache import cache_file\n",
    "\n",
    "# Mise en cache de l'ensemble de données Pokémon à partir d'une source distante\n",
    "file_name = cache_file(\n",
    "    \"pokemon.csv\",\n",
    "    \"https://raw.githubusercontent.com/bryanpaget/html/main/pokemon.csv\"\n",
    ")\n",
    "\n",
    "# Lecture de l'ensemble de données dans un Pandas DataFrame\n",
    "pokemon_df = pd.read_csv(file_name)\n",
    "\n",
    "# Lancement de Mito Sheet avec le jeu de données Pokémon\n",
    "mitosheet.sheet(pokemon_df, analysis_to_replay=\"id-flhnxtovqt\")"
   ]
  },
  {
   "cell_type": "markdown",
   "id": "00603023-c5c1-4606-8f9b-1748e4f1c1f9",
   "metadata": {},
   "source": [
    "Mito Sheet vous permet d'exploiter votre maîtrise d'Excel dans l'environnement JupyterLab. Analysez en toute transparence des ensembles de données, effectuez des calculs et visualisez les résultats, le tout dans l'interface familière que vous connaissez et aimez. Profitez de la puissance de Mito Sheet pour une expérience d’analyse de données plus intégrée et plus efficace."
   ]
  }
 ],
 "metadata": {
  "kernelspec": {
   "display_name": "Python 3 (ipykernel)",
   "language": "python",
   "name": "python3"
  },
  "language_info": {
   "codemirror_mode": {
    "name": "ipython",
    "version": 3
   },
   "file_extension": ".py",
   "mimetype": "text/x-python",
   "name": "python",
   "nbconvert_exporter": "python",
   "pygments_lexer": "ipython3",
   "version": "3.10.12"
  }
 },
 "nbformat": 4,
 "nbformat_minor": 5
}
