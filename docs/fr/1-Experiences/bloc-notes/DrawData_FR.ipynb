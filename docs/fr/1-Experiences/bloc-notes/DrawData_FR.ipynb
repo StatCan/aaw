{
 "cells": [
  {
   "cell_type": "markdown",
   "id": "5665986c-f484-437d-9c69-6e2fb9ca2741",
   "metadata": {},
   "source": [
    "# Draw Data: créer facilement des ensembles de données synthétiques\n",
    "\n",
    "Avez-vous déjà souhaité pouvoir générer sans effort un ensemble de données en dessinant visuellement des points sur un plan cartésien? Découvrez Draw Data, une application Python pratique conçue pour les bloc-notes Jupyter. Cet outil vous permet de créer des ensembles de données jouets ou synthétiques en dessinant simplement vos idées directement sur le graphique. Cela s’avère particulièrement utile lors de l’enseignement d’algorithmes d’apprentissage automatique.\n",
    "\n",
    "![](drawdata-1.png)\n",
    "![](drawdata-2.png)"
   ]
  },
  {
   "cell_type": "markdown",
   "id": "7e22fff3-f538-4ea2-b81c-26a1aaa058b9",
   "metadata": {},
   "source": [
    "## Installation:"
   ]
  },
  {
   "cell_type": "code",
   "execution_count": null,
   "id": "edb64c8b-59f1-42d3-87e0-97aca11a8ac7",
   "metadata": {
    "tags": []
   },
   "outputs": [],
   "source": [
    "%%capture\n",
    "! pip install -U drawdata"
   ]
  },
  {
   "cell_type": "markdown",
   "id": "97f8e6e4-8be5-49c2-9803-cb505aa87499",
   "metadata": {},
   "source": [
    "## Commencer:\n",
    "\n",
    "Pour dessiner un ensemble de données, exécutez la cellule suivante. Vous pouvez esquisser jusqu'à quatre classes de points. Ensuite, cliquez sur « Copier CSV » et vos points de données, présentés sous forme de valeurs x, y, z séparées par des virgules, seront copiés dans le presse-papiers. Pour importer les données dans un Pandas DataFrame, utilisez le code suivant:"
   ]
  },
  {
   "cell_type": "code",
   "execution_count": null,
   "id": "c20c0812-a0a9-491c-9c0c-4144eec21b0b",
   "metadata": {
    "tags": []
   },
   "outputs": [],
   "source": [
    "from drawdata import draw_scatter\n",
    "\n",
    "draw_scatter()"
   ]
  },
  {
   "cell_type": "markdown",
   "id": "3b92e81d-f46b-4411-9ee4-734838bcb9be",
   "metadata": {},
   "source": [
    "## Affichage du tableau de données:\n",
    "\n",
    "Une fois que vous avez terminé votre dessin, copiez les données dans le presse-papiers. L'étape suivante consiste à utiliser Pandas pour lire le presse-papiers et remplir un DataFrame. Voici un aperçu des premières entrées:"
   ]
  },
  {
   "cell_type": "code",
   "execution_count": null,
   "id": "eec428d3-5bb0-4c02-ab70-1e91da46291e",
   "metadata": {
    "tags": []
   },
   "outputs": [],
   "source": [
    "import pandas as pd\n",
    "\n",
    "# Lecture du presse-papier dans un DataFrame\n",
    "df = pd.read_clipboard(sep=\",\")\n",
    "df"
   ]
  },
  {
   "cell_type": "markdown",
   "id": "9161b704-2af1-4e65-a07c-ec2d6a53551c",
   "metadata": {},
   "source": [
    "## Tracer les données dessinées:\n",
    "\n",
    "Visualiser les points dessinés devient un jeu d'enfant avec Plotly, qui fournit un graphique interactif. L'extrait de code suivant accomplit cela:"
   ]
  },
  {
   "cell_type": "code",
   "execution_count": null,
   "id": "dd70f514-2ff4-42a3-b3a1-2d7dff468d3b",
   "metadata": {
    "tags": []
   },
   "outputs": [],
   "source": [
    "import plotly.express as px\n",
    "import plotly\n",
    "\n",
    "plotly.offline.init_notebook_mode(connected=True)\n",
    "\n",
    "# Creating an interactive scatter plot\n",
    "fig = px.scatter(df, x='x', y='y', color='z')\n",
    "fig.update_layout(\n",
    "    autosize=False,\n",
    "    width=800,\n",
    "    height=800,\n",
    ")\n",
    "fig.show()"
   ]
  },
  {
   "cell_type": "markdown",
   "id": "3976a320-0acb-4e36-a34f-6d317b0ef642",
   "metadata": {},
   "source": [
    "Ce guide complet vous permet de dessiner, d'analyser et de visualiser de manière transparente votre ensemble de données synthétiques, rendant ainsi le processus d'enseignement des concepts d'apprentissage automatique plus intuitif et engageant."
   ]
  }
 ],
 "metadata": {
  "kernelspec": {
   "display_name": "Python 3 (ipykernel)",
   "language": "python",
   "name": "python3"
  },
  "language_info": {
   "codemirror_mode": {
    "name": "ipython",
    "version": 3
   },
   "file_extension": ".py",
   "mimetype": "text/x-python",
   "name": "python",
   "nbconvert_exporter": "python",
   "pygments_lexer": "ipython3",
   "version": "3.10.12"
  }
 },
 "nbformat": 4,
 "nbformat_minor": 5
}
