{
 "cells": [
  {
   "cell_type": "markdown",
   "id": "b4535707-40cf-422b-8d25-9a916573d89c",
   "metadata": {
    "tags": []
   },
   "source": [
    "# PyGWalker: simplifier l'analyse exploratoire des données avec Python\n",
    "\n",
    "Présentation de PyGWalker, une bibliothèque Python conçue pour rationaliser vos tâches d'analyse exploratoire de données (EDA) et de visualisation dans bloc-notes Jupyter. Conçu pour les statisticiens nationaux familiers avec Excel et Power BI, PyGWalker transforme votre dataframe pandas (et dataframe polaires) en une interface utilisateur intuitive de style Tableau, améliorant ainsi votre expérience d'exploration de données.\n",
    "\n",
    "![](pygwalker.png)\n",
    "\n",
    "## Qu'est-ce que PyGWalker?\n",
    "\n",
    "PyGWalker, affectueusement prononcé comme « Pig Walker », est l'abréviation de « liaison Python de Graphic Walker ». Il s'intègre parfaitement aux bloc-notes Jupyter, fournissant ainsi un pont vers Graphic Walker, une alternative open source à Tableau. Cette bibliothèque permet aux data scientists d'analyser et de visualiser les données sans effort grâce à des opérations simples de glisser-déposer.\n",
    "\n",
    "## Principales caractéristiques:\n",
    "\n",
    "- **Interface de style Tableau:** profitez d'une interface utilisateur familière de style Tableau pour l'exploration visuelle sans quitter l'environnement Jupyter.\n",
    "- **Fonctionnalité glisser-déposer:** simplifiez votre flux de travail grâce à des opérations intuitives de glisser-déposer, facilitant ainsi l'exploration des données.\n",
    "- **Interface utilisateur conversationnelle:** participez à l'exploration de données conversationnelles via une interface conviviale.\n",
    "\n",
    "## Installation:\n",
    "\n",
    "Pour démarrer avec PyGWalker, installez la bibliothèque ainsi que les autres dépendances nécessaires à l'aide de la commande suivante:"
   ]
  },
  {
   "cell_type": "code",
   "execution_count": 2,
   "id": "2ac4a6e0-f7d7-402f-9ad3-64a0f676a4bc",
   "metadata": {
    "execution": {
     "iopub.execute_input": "2023-11-27T18:38:30.514948Z",
     "iopub.status.busy": "2023-11-27T18:38:30.514311Z",
     "iopub.status.idle": "2023-11-27T18:38:35.827327Z",
     "shell.execute_reply": "2023-11-27T18:38:35.825306Z",
     "shell.execute_reply.started": "2023-11-27T18:38:30.514914Z"
    },
    "tags": []
   },
   "outputs": [],
   "source": [
    "%%capture\n",
    "! pip install -U pygwalker ydata-profiling ipywidgets"
   ]
  },
  {
   "cell_type": "markdown",
   "id": "18762e21-cfb3-45b0-b7a6-61a845afa3ff",
   "metadata": {},
   "source": [
    "## Exemple d'utilisation:\n",
    "\n",
    "Passons maintenant à un exemple pratique utilisant un ensemble de données. Dans ce cas, nous exploiterons un ensemble de données Pokémon disponible en ligne:"
   ]
  },
  {
   "cell_type": "code",
   "execution_count": null,
   "id": "4342db89-5515-47f0-90a9-9f83a8152ce9",
   "metadata": {
    "tags": []
   },
   "outputs": [],
   "source": [
    "import pandas as pd\n",
    "import pygwalker as pyg\n",
    "from ydata_profiling.utils.cache import cache_file\n",
    "\n",
    "# Mise en cache de l'ensemble de données Pokémon à partir d'une source distante\n",
    "file_name = cache_file(\n",
    "    \"pokemon.csv\",\n",
    "    \"https://raw.githubusercontent.com/bryanpaget/html/main/pokemon.csv\"\n",
    ")\n",
    "\n",
    "# Lecture de l'ensemble de données dans un Pandas DataFrame\n",
    "pokemon_df = pd.read_csv(file_name)\n",
    "\n",
    "# Lancement de PyGWalker pour l'exploration visuelle\n",
    "pyg.walk(pokemon_df)"
   ]
  },
  {
   "cell_type": "markdown",
   "id": "5a2d318b-19ba-46b3-b050-b38b91b00ffd",
   "metadata": {},
   "source": [
    "Avec PyGWalker, transformez sans effort vos données en applications de visualisation interactive en utilisant une seule ligne de code. Que vous soyez habitué à Excel ou Power BI, PyGWalker offre une solution transparente et efficace pour explorer et comprendre vos ensembles de données dans l'environnement Jupyter Notebook."
   ]
  }
 ],
 "metadata": {
  "kernelspec": {
   "display_name": "Python 3 (ipykernel)",
   "language": "python",
   "name": "python3"
  },
  "language_info": {
   "codemirror_mode": {
    "name": "ipython",
    "version": 3
   },
   "file_extension": ".py",
   "mimetype": "text/x-python",
   "name": "python",
   "nbconvert_exporter": "python",
   "pygments_lexer": "ipython3",
   "version": "3.10.12"
  }
 },
 "nbformat": 4,
 "nbformat_minor": 5
}
