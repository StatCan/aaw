{
 "cells": [
  {
   "cell_type": "markdown",
   "id": "1bd46748-42b9-46ea-9fea-fee20634a793",
   "metadata": {},
   "source": [
    "# Mito Sheet: Excel-Like Spreadsheets in JupyterLab\n",
    "\n",
    "Mito Sheet offers a seamlessly integrated spreadsheet program within JupyterLab, bringing a familiar Excel-like experience to your data analysis workflow.\n",
    "\n",
    "![](mito-fullscreen.png)\n",
    "\n",
    "![](mito.png)\n",
    "\n",
    "## Installation:\n",
    "\n",
    "To install Mito Sheet, execute the following cell in your JupyterLab environment:"
   ]
  },
  {
   "cell_type": "code",
   "execution_count": null,
   "id": "d9f41c51-e09f-4a37-b5e6-3ff4766001ea",
   "metadata": {
    "tags": []
   },
   "outputs": [],
   "source": [
    "%%capture\n",
    "! pip install -r requirements.txt\n",
    "! pip install -U mitosheet\n",
    "! python -m jupyter nbextension install --py --user mitosheet\n",
    "! python -m jupyter nbextension enable --py --user mitosheet"
   ]
  },
  {
   "cell_type": "markdown",
   "id": "b421be69-2741-4d5c-a3fa-f60f8d9187aa",
   "metadata": {
    "tags": []
   },
   "source": [
    "## Getting Started:\n",
    "\n",
    "Begin your Mito Sheet journey by running the following code snippet:"
   ]
  },
  {
   "cell_type": "code",
   "execution_count": null,
   "id": "a2fa0eae-fceb-49a9-9c0f-4daf35d200f7",
   "metadata": {
    "tags": []
   },
   "outputs": [],
   "source": [
    "import mitosheet\n",
    "mitosheet.sheet()"
   ]
  },
  {
   "cell_type": "markdown",
   "id": "a1d58f56-87f6-4ebc-9a6a-0502773d0be7",
   "metadata": {},
   "source": [
    "## Working with Excel Data:\n",
    "\n",
    "For those accustomed to Excel, transitioning to Mito Sheet is seamless. Let's import an Excel-like dataset for illustration. We'll use a popular Pokémon dataset available online:"
   ]
  },
  {
   "cell_type": "code",
   "execution_count": null,
   "id": "5b1b4720-3beb-4bf8-b104-3ac6dde49d08",
   "metadata": {
    "tags": []
   },
   "outputs": [],
   "source": [
    "import mitosheet\n",
    "import pandas as pd\n",
    "from ydata_profiling.utils.cache import cache_file\n",
    "\n",
    "# Caching the Pokémon dataset from a remote source\n",
    "file_name = cache_file(\n",
    "    \"pokemon.csv\",\n",
    "    \"https://raw.githubusercontent.com/bryanpaget/html/main/pokemon.csv\"\n",
    ")\n",
    "\n",
    "# Reading the dataset into a Pandas DataFrame\n",
    "pokemon_df = pd.read_csv(file_name)\n",
    "\n",
    "# Launching Mito Sheet with the Pokémon dataset\n",
    "mitosheet.sheet(pokemon_df, analysis_to_replay=\"id-flhnxtovqt\")"
   ]
  },
  {
   "cell_type": "markdown",
   "id": "00603023-c5c1-4606-8f9b-1748e4f1c1f9",
   "metadata": {},
   "source": [
    "Mito Sheet empowers you to leverage your Excel proficiency within the JupyterLab environment. Seamlessly analyze datasets, perform computations, and visualize results – all within the familiar interface you know and love. Embrace the power of Mito Sheet for a more integrated and efficient data analysis experience."
   ]
  }
 ],
 "metadata": {
  "kernelspec": {
   "display_name": "Python 3 (ipykernel)",
   "language": "python",
   "name": "python3"
  },
  "language_info": {
   "codemirror_mode": {
    "name": "ipython",
    "version": 3
   },
   "file_extension": ".py",
   "mimetype": "text/x-python",
   "name": "python",
   "nbconvert_exporter": "python",
   "pygments_lexer": "ipython3",
   "version": "3.10.12"
  }
 },
 "nbformat": 4,
 "nbformat_minor": 5
}
