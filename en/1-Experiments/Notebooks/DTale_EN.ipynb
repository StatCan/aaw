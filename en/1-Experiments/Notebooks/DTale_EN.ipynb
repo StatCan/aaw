{
 "cells": [
  {
   "cell_type": "markdown",
   "id": "76784523-1230-4c92-8cac-753cc0f8613e",
   "metadata": {},
   "source": [
    "# D-Tale: A Seamless Data Exploration Tool for Python\n",
    "\n",
    "D-Tale, born out of a SAS to Python conversion, transforms the data exploration process into a breeze. Originally a Perl script wrapper for SAS's insight function, it has evolved into a lightweight web client seamlessly integrated with Pandas data structures.\n",
    "\n",
    "Built on a Flask back-end and a React front-end, D-Tale offers a straightforward method to view and analyze Pandas data structures. Its seamless integration with Jupyter notebooks and Python/IPython terminals makes it a versatile tool. Currently, it supports various Pandas objects, including DataFrame, Series, MultiIndex, DatetimeIndex, and RangeIndex.\n",
    "\n",
    "D-Tale is a solution that simplifies data exploration. Acting as a lightweight web client over Pandas data structures, D-Tale offers an intuitive user interface for performing various data exploration tasks without the need to write any code.\n",
    "\n",
    "\n",
    "![](dtale.png)\n",
    "\n",
    "![](dtale-menu.png)\n",
    "\n",
    "![](dtale-2.png)\n",
    "\n",
    "## Installation:"
   ]
  },
  {
   "cell_type": "code",
   "execution_count": null,
   "id": "c1a92ee3-40b7-4a8c-b51b-4e007efe6593",
   "metadata": {
    "tags": []
   },
   "outputs": [],
   "source": [
    "%%capture\n",
    "! pip install -U dtale"
   ]
  },
  {
   "cell_type": "markdown",
   "id": "7b7fffba-5e2e-4381-973b-6da1a9dc1bb2",
   "metadata": {},
   "source": [
    "## Usage:"
   ]
  },
  {
   "cell_type": "code",
   "execution_count": null,
   "id": "31bec97e-6100-43ba-b41e-68fb3f837116",
   "metadata": {
    "tags": []
   },
   "outputs": [],
   "source": [
    "import dtale\n",
    "import pandas as pd\n",
    "from ydata_profiling.utils.cache import cache_file\n",
    "\n",
    "# Fetching Pokemon dataset\n",
    "file_name = cache_file(\n",
    "    \"pokemon.csv\",\n",
    "    \"https://raw.githubusercontent.com/bryanpaget/html/main/pokemon.csv\"\n",
    ")\n",
    "\n",
    "# Reading dataset using Pandas\n",
    "pokemon_df = pd.read_csv(file_name)\n",
    "\n",
    "# Displaying dataset with D-Tale\n",
    "dtale.show(pokemon_df)"
   ]
  },
  {
   "cell_type": "markdown",
   "id": "863aff9f-8be9-4231-ade4-21377856b1a0",
   "metadata": {},
   "source": [
    "D-Tale comes to the rescue by providing a user-friendly interface for essential data exploration tasks, eliminating the need for repetitive code and saving valuable time in the process.\n"
   ]
  }
 ],
 "metadata": {
  "kernelspec": {
   "display_name": "Python 3 (ipykernel)",
   "language": "python",
   "name": "python3"
  },
  "language_info": {
   "codemirror_mode": {
    "name": "ipython",
    "version": 3
   },
   "file_extension": ".py",
   "mimetype": "text/x-python",
   "name": "python",
   "nbconvert_exporter": "python",
   "pygments_lexer": "ipython3",
   "version": "3.10.12"
  }
 },
 "nbformat": 4,
 "nbformat_minor": 5
}
