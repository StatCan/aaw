{
 "cells": [
  {
   "cell_type": "markdown",
   "id": "4a964959-e071-422d-af41-b5db86944d85",
   "metadata": {
    "tags": []
   },
   "source": [
    "# SweetViz: Streamlining EDA with Elegant Visualizations\n",
    "\n",
    "SweetViz, an open-source Python library, simplifies the process of Exploratory Data Analysis (EDA) with just two lines of code, generating stunning, high-density visualizations. The output is a fully self-contained HTML application, making it a convenient tool for quick insights into data characteristics and comparisons between datasets.\n",
    "\n",
    "![](sweetviz.png)\n",
    "\n",
    "## Key Features:\n",
    "\n",
    "- **Target Analysis:** Visualize how a target value (e.g., \"Survived\" in the Titanic dataset) correlates with other features, aiding in understanding target characteristics.\n",
    "- **Visualize and Compare:** Effortlessly compare distinct datasets, such as training versus test data, and explore intra-set characteristics (e.g., male versus female).\n",
    "- **Mixed-Type Associations:** SweetViz seamlessly integrates associations for numerical (Pearson's correlation), categorical (uncertainty coefficient), and categorical-numerical (correlation ratio) datatypes, providing comprehensive information for diverse data types.\n",
    "- **Type Inference:** Automatically detects numerical, categorical, and text features, with the option for manual overrides if needed.\n",
    "- **Summary Information:** Gain insights into type, unique values, missing values, duplicate rows, and the most frequent values within the dataset.\n",
    "- **Numerical Analysis:** Explore numerical features with statistics such as min/max/range, quartiles, mean, mode, standard deviation, sum, median absolute deviation, coefficient of variation, kurtosis, and skewness."
   ]
  },
  {
   "cell_type": "markdown",
   "id": "e06c95a2-939c-442d-8f93-8ed3c85c2d89",
   "metadata": {},
   "source": [
    "## Installation:\n",
    "\n",
    "To get started with SweetViz, install the library along with other necessary dependencies using the following command:"
   ]
  },
  {
   "cell_type": "code",
   "execution_count": null,
   "id": "15583324-4dd7-4626-9fdb-5df65a89f676",
   "metadata": {
    "scrolled": true,
    "tags": []
   },
   "outputs": [],
   "source": [
    "%%capture\n",
    "! pip install -r requirements.txt\n",
    "! pip install -U sweetviz ydata-profiling"
   ]
  },
  {
   "cell_type": "markdown",
   "id": "8e156964-23bb-4aca-b229-bf106711481d",
   "metadata": {},
   "source": [
    "## Basic Example:\n",
    "\n",
    "Performing a basic EDA with SweetViz involves just two lines of code. In the example below, we analyze a Pokémon dataset and generate a detailed report:"
   ]
  },
  {
   "cell_type": "code",
   "execution_count": null,
   "id": "45baf03a-aad2-48e8-81f5-08d2d9992890",
   "metadata": {
    "tags": []
   },
   "outputs": [],
   "source": [
    "import sweetviz as sv\n",
    "import pandas as pd\n",
    "from ydata_profiling.utils.cache import cache_file\n",
    "\n",
    "\n",
    "file_name = cache_file(\n",
    "    \"pokemon.csv\",\n",
    "    \"https://raw.githubusercontent.com/bryanpaget/html/main/pokemon.csv\"\n",
    ")\n",
    "\n",
    "pokemon_df = pd.read_csv(file_name)\n",
    "\n",
    "my_report = sv.analyze(pokemon_df)\n",
    "my_report.show_notebook()"
   ]
  },
  {
   "cell_type": "markdown",
   "id": "28e199b3-5978-4a8a-a492-dfb5cea66474",
   "metadata": {},
   "source": [
    "## Comparing Two Dataframes:\n",
    "\n",
    "SweetViz extends its capabilities to compare two datasets, such as training and test sets. In this more complex example, we examine the differences in the \"Attack\" feature:"
   ]
  },
  {
   "cell_type": "code",
   "execution_count": null,
   "id": "4a52f76a-7532-4060-a854-28427a4b1014",
   "metadata": {
    "tags": []
   },
   "outputs": [],
   "source": [
    "from sklearn.model_selection import train_test_split\n",
    "\n",
    "X = pokemon_df[['Total', 'HP', 'Attack', 'Defense', 'Sp. Atk', 'Sp. Def', 'Speed']]\n",
    "y = pokemon_df[['Type 1', 'Type 2']]\n",
    "\n",
    "X_train, X_test, y_train, y_test = train_test_split(\n",
    "    X, y, test_size=0.33, random_state=42)\n",
    "\n",
    "train_df = X_train\n",
    "test_df = X_test\n",
    "\n",
    "comparison_report = sv.compare(train_df, test_df, target_feat='Attack')\n",
    "comparison_report.show_notebook()"
   ]
  },
  {
   "cell_type": "markdown",
   "id": "6dfa813c-0a06-4ca8-b151-0ca73aa381a9",
   "metadata": {},
   "source": [
    "Empower your data exploration journey with SweetViz, creating visually appealing and informative reports with minimal effort. Whether you're a data scientist, student, or researcher, SweetViz offers a user-friendly approach to gain quick insights into your datasets."
   ]
  }
 ],
 "metadata": {
  "kernelspec": {
   "display_name": "Python 3 (ipykernel)",
   "language": "python",
   "name": "python3"
  },
  "language_info": {
   "codemirror_mode": {
    "name": "ipython",
    "version": 3
   },
   "file_extension": ".py",
   "mimetype": "text/x-python",
   "name": "python",
   "nbconvert_exporter": "python",
   "pygments_lexer": "ipython3",
   "version": "3.10.12"
  }
 },
 "nbformat": 4,
 "nbformat_minor": 5
}
