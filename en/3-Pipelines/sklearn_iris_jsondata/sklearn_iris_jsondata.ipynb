{
 "cells": [
  {
   "attachments": {},
   "cell_type": "markdown",
   "metadata": {},
   "source": [
    "# Serving an Iris Classifier with Seldon\n",
    "\n",
    "## Goal of Notebook\n",
    "\n",
    "The goal of this notebook is to wrap a `scikit-learn` Python model for use as a prediction microservice with Seldon Core."
   ]
  },
  {
   "attachments": {},
   "cell_type": "markdown",
   "metadata": {},
   "source": [
    "## Setup Python\n",
    "\n",
    "Write requirements.txt and configure our Python virtual environment."
   ]
  },
  {
   "cell_type": "code",
   "execution_count": null,
   "metadata": {
    "execution": {
     "iopub.execute_input": "2023-04-27T15:57:57.958799Z",
     "iopub.status.busy": "2023-04-27T15:57:57.957866Z",
     "iopub.status.idle": "2023-04-27T15:57:57.964285Z",
     "shell.execute_reply": "2023-04-27T15:57:57.963484Z",
     "shell.execute_reply.started": "2023-04-27T15:57:57.958767Z"
    },
    "scrolled": true,
    "tags": []
   },
   "outputs": [],
   "source": [
    "%%writefile requirements.txt\n",
    "scikit-learn\n",
    "dill\n",
    "pandas\n",
    "sklearn\n",
    "seldon-core\n",
    "requests\n",
    "matplotlib"
   ]
  },
  {
   "cell_type": "code",
   "execution_count": null,
   "metadata": {
    "execution": {
     "iopub.execute_input": "2023-04-27T13:58:18.412667Z",
     "iopub.status.busy": "2023-04-27T13:58:18.411840Z",
     "iopub.status.idle": "2023-04-27T13:58:19.144219Z",
     "shell.execute_reply": "2023-04-27T13:58:19.143136Z",
     "shell.execute_reply.started": "2023-04-27T13:58:18.412630Z"
    },
    "tags": []
   },
   "outputs": [],
   "source": [
    "!if [ ! -d \"./venv\" ]; then python -m venv venv; fi"
   ]
  },
  {
   "cell_type": "code",
   "execution_count": null,
   "metadata": {
    "execution": {
     "iopub.execute_input": "2023-04-27T13:58:19.302968Z",
     "iopub.status.busy": "2023-04-27T13:58:19.302445Z",
     "iopub.status.idle": "2023-04-27T13:58:20.355237Z",
     "shell.execute_reply": "2023-04-27T13:58:20.353560Z",
     "shell.execute_reply.started": "2023-04-27T13:58:19.302929Z"
    },
    "tags": []
   },
   "outputs": [],
   "source": [
    "!source ./venv/bin/activate"
   ]
  },
  {
   "cell_type": "code",
   "execution_count": null,
   "metadata": {
    "execution": {
     "iopub.execute_input": "2023-04-27T13:58:20.713063Z",
     "iopub.status.busy": "2023-04-27T13:58:20.712216Z",
     "iopub.status.idle": "2023-04-27T13:58:21.461588Z",
     "shell.execute_reply": "2023-04-27T13:58:21.460429Z",
     "shell.execute_reply.started": "2023-04-27T13:58:20.713016Z"
    },
    "tags": []
   },
   "outputs": [],
   "source": [
    "!if [ ! -d \"/home/jovyan/.config/pip\" ]; then mkdir /home/jovyan/.config/pip; fi"
   ]
  },
  {
   "attachments": {},
   "cell_type": "markdown",
   "metadata": {},
   "source": [
    "Seldon only runs in the AAW dev environment; modify `pip.conf` to retrieve packages from the internet."
   ]
  },
  {
   "cell_type": "code",
   "execution_count": null,
   "metadata": {
    "execution": {
     "iopub.execute_input": "2023-04-27T13:58:21.463776Z",
     "iopub.status.busy": "2023-04-27T13:58:21.463360Z",
     "iopub.status.idle": "2023-04-27T13:58:21.469135Z",
     "shell.execute_reply": "2023-04-27T13:58:21.468420Z",
     "shell.execute_reply.started": "2023-04-27T13:58:21.463740Z"
    },
    "tags": []
   },
   "outputs": [],
   "source": [
    "%%writefile /home/jovyan/.config/pip/pip.conf\n",
    "[global]\n",
    "index-url = https://jfrog.aaw.cloud.statcan.ca/artifactory/api/pypi/pypi-remote/simple"
   ]
  },
  {
   "cell_type": "code",
   "execution_count": null,
   "metadata": {
    "execution": {
     "iopub.execute_input": "2023-04-27T15:58:01.566928Z",
     "iopub.status.busy": "2023-04-27T15:58:01.566106Z",
     "iopub.status.idle": "2023-04-27T15:58:05.178871Z",
     "shell.execute_reply": "2023-04-27T15:58:05.177536Z",
     "shell.execute_reply.started": "2023-04-27T15:58:01.566896Z"
    },
    "tags": []
   },
   "outputs": [],
   "source": [
    "%%capture\n",
    "%pip install -r requirements.txt"
   ]
  },
  {
   "attachments": {},
   "cell_type": "markdown",
   "metadata": {},
   "source": [
    "We can add the kernel to the JupyterLab launcher for easy reusing."
   ]
  },
  {
   "cell_type": "code",
   "execution_count": null,
   "metadata": {
    "execution": {
     "iopub.execute_input": "2023-04-27T13:58:48.714311Z",
     "iopub.status.busy": "2023-04-27T13:58:48.713884Z",
     "iopub.status.idle": "2023-04-27T13:58:50.178610Z",
     "shell.execute_reply": "2023-04-27T13:58:50.177586Z",
     "shell.execute_reply.started": "2023-04-27T13:58:48.714273Z"
    },
    "tags": []
   },
   "outputs": [],
   "source": [
    "!python -m ipykernel install --user --name=sklearn_iris_jsondata"
   ]
  },
  {
   "attachments": {},
   "cell_type": "markdown",
   "metadata": {},
   "source": [
    "## Deploy Model\n",
    "\n",
    "Write a SeldonDeployment YAML file for the containerized model."
   ]
  },
  {
   "cell_type": "code",
   "execution_count": null,
   "metadata": {
    "execution": {
     "iopub.execute_input": "2023-04-27T14:48:15.600923Z",
     "iopub.status.busy": "2023-04-27T14:48:15.600036Z",
     "iopub.status.idle": "2023-04-27T14:48:15.606528Z",
     "shell.execute_reply": "2023-04-27T14:48:15.605436Z",
     "shell.execute_reply.started": "2023-04-27T14:48:15.600890Z"
    },
    "tags": []
   },
   "outputs": [],
   "source": [
    "%%writefile sklearn_iris_jsondata_deployment.yaml\n",
    "apiVersion: machinelearning.seldon.io/v1alpha2\n",
    "kind: SeldonDeployment\n",
    "metadata:\n",
    "  name: seldon-deployment-example\n",
    "  namespace: bryanpaget\n",
    "spec:\n",
    "  name: sklearn-iris-deployment\n",
    "  annotations:\n",
    "    sidecar.istio.io/inject: \"false\"\n",
    "  predictors:\n",
    "  - componentSpecs:\n",
    "    - spec:\n",
    "        containers:\n",
    "        - image: seldonio/sklearn-iris:0.3\n",
    "          imagePullPolicy: IfNotPresent\n",
    "          name: sklearn-iris-classifier\n",
    "    graph:\n",
    "      children: []\n",
    "      endpoint:\n",
    "        type: REST\n",
    "      name: sklearn-iris-classifier\n",
    "      type: MODEL\n",
    "    name: sklearn-iris-predictor\n",
    "    replicas: 1"
   ]
  },
  {
   "cell_type": "markdown",
   "metadata": {},
   "source": [
    "Deploy the SeldonDeployment."
   ]
  },
  {
   "cell_type": "code",
   "execution_count": null,
   "metadata": {
    "execution": {
     "iopub.execute_input": "2023-04-27T13:58:50.189468Z",
     "iopub.status.busy": "2023-04-27T13:58:50.188796Z",
     "iopub.status.idle": "2023-04-27T13:58:53.893779Z",
     "shell.execute_reply": "2023-04-27T13:58:53.892661Z",
     "shell.execute_reply.started": "2023-04-27T13:58:50.189441Z"
    },
    "tags": []
   },
   "outputs": [],
   "source": [
    "!kubectl create -f sklearn_iris_jsondata_deployment.yaml"
   ]
  },
  {
   "cell_type": "code",
   "execution_count": null,
   "metadata": {
    "execution": {
     "iopub.execute_input": "2023-04-27T13:58:53.896155Z",
     "iopub.status.busy": "2023-04-27T13:58:53.895313Z",
     "iopub.status.idle": "2023-04-27T13:58:55.209852Z",
     "shell.execute_reply": "2023-04-27T13:58:55.208787Z",
     "shell.execute_reply.started": "2023-04-27T13:58:53.896117Z"
    },
    "tags": []
   },
   "outputs": [],
   "source": [
    "!kubectl rollout status deploy \\\n",
    "    $(kubectl get deploy -l seldon-deployment-id=seldon-deployment-example \\\n",
    "        -o jsonpath='{.items[0].metadata.name}')"
   ]
  },
  {
   "attachments": {},
   "cell_type": "markdown",
   "metadata": {},
   "source": [
    "Is the service available?"
   ]
  },
  {
   "cell_type": "code",
   "execution_count": null,
   "metadata": {
    "execution": {
     "iopub.execute_input": "2023-04-27T13:58:55.211582Z",
     "iopub.status.busy": "2023-04-27T13:58:55.211279Z",
     "iopub.status.idle": "2023-04-27T13:58:55.435452Z",
     "shell.execute_reply": "2023-04-27T13:58:55.434211Z",
     "shell.execute_reply.started": "2023-04-27T13:58:55.211552Z"
    },
    "tags": []
   },
   "outputs": [],
   "source": [
    "for i in range(60):\n",
    "    state = !kubectl get sdep seldon-deployment-example -o jsonpath='{.status.state}'\n",
    "    state = state[0]\n",
    "    print(state)\n",
    "    if state == \"Available\":\n",
    "        break\n",
    "    time.sleep(1)\n",
    "assert state == \"Available\""
   ]
  },
  {
   "attachments": {},
   "cell_type": "markdown",
   "metadata": {},
   "source": [
    "## Test Model"
   ]
  },
  {
   "attachments": {},
   "cell_type": "markdown",
   "metadata": {},
   "source": [
    "With the virtual environment setup and activated, import the necessary Python libraries."
   ]
  },
  {
   "cell_type": "code",
   "execution_count": null,
   "metadata": {
    "execution": {
     "iopub.execute_input": "2023-04-27T15:58:43.902715Z",
     "iopub.status.busy": "2023-04-27T15:58:43.901670Z",
     "iopub.status.idle": "2023-04-27T15:58:43.906588Z",
     "shell.execute_reply": "2023-04-27T15:58:43.905572Z",
     "shell.execute_reply.started": "2023-04-27T15:58:43.902678Z"
    },
    "tags": []
   },
   "outputs": [],
   "source": [
    "import json\n",
    "import pandas as pd"
   ]
  },
  {
   "attachments": {},
   "cell_type": "markdown",
   "metadata": {},
   "source": [
    "The Iris Classifier takes a set of four measurements, in this case `[5.964, 1.006, 2.081, 1.031]`, and it returns a set of probabilities, one for each of three types of iris flowers. [You can read more about iris data here.](https://archive.ics.uci.edu/ml/datasets/iris) Let's send some data to the model. "
   ]
  },
  {
   "cell_type": "code",
   "execution_count": null,
   "metadata": {
    "execution": {
     "iopub.execute_input": "2023-04-27T16:05:03.253143Z",
     "iopub.status.busy": "2023-04-27T16:05:03.252208Z",
     "iopub.status.idle": "2023-04-27T16:05:03.304174Z",
     "shell.execute_reply": "2023-04-27T16:05:03.303066Z",
     "shell.execute_reply.started": "2023-04-27T16:05:03.253106Z"
    },
    "tags": []
   },
   "outputs": [],
   "source": [
    "res = !curl -v seldon-deployment-example-sklearn-iris-predictor.bryanpaget.svc.cluster.local:8000/api/v0.1/predictions \\\n",
    "   -H 'Content-Type: application/json' \\\n",
    "   -d '{\"data\": {\"ndarray\": [[5.964, 1.006, 2.081, 1.031]]}}'"
   ]
  },
  {
   "cell_type": "markdown",
   "metadata": {},
   "source": [
    "## Results"
   ]
  },
  {
   "attachments": {},
   "cell_type": "markdown",
   "metadata": {},
   "source": [
    "These are the results in raw JSON."
   ]
  },
  {
   "cell_type": "code",
   "execution_count": null,
   "metadata": {
    "execution": {
     "iopub.execute_input": "2023-04-27T16:05:03.594132Z",
     "iopub.status.busy": "2023-04-27T16:05:03.593539Z",
     "iopub.status.idle": "2023-04-27T16:05:03.600395Z",
     "shell.execute_reply": "2023-04-27T16:05:03.599596Z",
     "shell.execute_reply.started": "2023-04-27T16:05:03.594090Z"
    },
    "tags": []
   },
   "outputs": [],
   "source": [
    "parsed = json.loads(res[-1])\n",
    "print(json.dumps(parsed, indent=4, sort_keys=True))"
   ]
  },
  {
   "attachments": {},
   "cell_type": "markdown",
   "metadata": {},
   "source": [
    "This plotting function reveals a bar chart with the classifier's inference."
   ]
  },
  {
   "cell_type": "code",
   "execution_count": null,
   "metadata": {
    "execution": {
     "iopub.execute_input": "2023-04-27T16:05:04.188096Z",
     "iopub.status.busy": "2023-04-27T16:05:04.187614Z",
     "iopub.status.idle": "2023-04-27T16:05:04.541870Z",
     "shell.execute_reply": "2023-04-27T16:05:04.540936Z",
     "shell.execute_reply.started": "2023-04-27T16:05:04.188045Z"
    },
    "tags": []
   },
   "outputs": [],
   "source": [
    "def display_iris_classifier_results(res):\n",
    "    \"\"\"Takes the classification results from the iris classifier and plots them in a bar chart for easy viewing of class probabilities.\n",
    "\n",
    "    Args:\n",
    "        res (string): results from iris model served by Seldon.\n",
    "    \"\"\"\n",
    "    results = res[-1]\n",
    "    results = json.loads(results)\n",
    "    names = results[\"data\"][\"names\"]\n",
    "    predictions = results[\"data\"][\"ndarray\"][0]\n",
    "    model = results[\"meta\"][\"requestPath\"]\n",
    "    model = model.popitem()\n",
    "    model, version = model[0], model[1]\n",
    "\n",
    "    df = pd.DataFrame({\"Class\": names, \"Probability\": predictions})\n",
    "\n",
    "    df.plot(\n",
    "        kind=\"bar\",\n",
    "        title=model.replace(\"-\", \" \").title(),\n",
    "        xlabel=\"Classification\",\n",
    "        ylabel=\"Probability\",\n",
    "        legend=False\n",
    "    )\n",
    "\n",
    "display_iris_classifier_results(res)"
   ]
  },
  {
   "cell_type": "markdown",
   "metadata": {},
   "source": [
    "## Clean Up"
   ]
  },
  {
   "attachments": {},
   "cell_type": "markdown",
   "metadata": {},
   "source": [
    "Clean up by removing the deployment."
   ]
  },
  {
   "cell_type": "code",
   "execution_count": null,
   "metadata": {
    "execution": {
     "iopub.execute_input": "2023-04-27T16:05:04.750111Z",
     "iopub.status.busy": "2023-04-27T16:05:04.749559Z",
     "iopub.status.idle": "2023-04-27T16:05:07.723921Z",
     "shell.execute_reply": "2023-04-27T16:05:07.722248Z",
     "shell.execute_reply.started": "2023-04-27T16:05:04.750073Z"
    },
    "tags": []
   },
   "outputs": [],
   "source": [
    "!kubectl delete -f sklearn_iris_jsondata_deployment.yaml"
   ]
  }
 ],
 "metadata": {
  "kernelspec": {
   "display_name": ".venv",
   "language": "python",
   "name": "python3"
  },
  "language_info": {
   "codemirror_mode": {
    "name": "ipython",
    "version": 3
   },
   "file_extension": ".py",
   "mimetype": "text/x-python",
   "name": "python",
   "nbconvert_exporter": "python",
   "pygments_lexer": "ipython3",
   "version": "3.10.6"
  },
  "varInspector": {
   "cols": {
    "lenName": 16,
    "lenType": 16,
    "lenVar": 40
   },
   "kernels_config": {
    "python": {
     "delete_cmd_postfix": "",
     "delete_cmd_prefix": "del ",
     "library": "var_list.py",
     "varRefreshCmd": "print(var_dic_list())"
    },
    "r": {
     "delete_cmd_postfix": ") ",
     "delete_cmd_prefix": "rm(",
     "library": "var_list.r",
     "varRefreshCmd": "cat(var_dic_list()) "
    }
   },
   "types_to_exclude": [
    "module",
    "function",
    "builtin_function_or_method",
    "instance",
    "_Feature"
   ],
   "window_display": false
  }
 },
 "nbformat": 4,
 "nbformat_minor": 4
}
